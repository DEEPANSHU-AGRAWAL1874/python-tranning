{
 "cells": [
  {
   "cell_type": "code",
   "execution_count": null,
   "id": "ffd3318c",
   "metadata": {},
   "outputs": [],
   "source": [
    "import numpy as np\n",
    "import pandas as pd\n"
   ]
  },
  {
   "cell_type": "code",
   "execution_count": null,
   "id": "9a119bc3",
   "metadata": {},
   "outputs": [
    {
     "name": "stdout",
     "output_type": "stream",
     "text": [
      "[[0 1 2]\n",
      " [3 4 5]\n",
      " [6 7 8]]\n",
      "[[-1. -3. -5.]\n",
      " [ 2.  0. -2.]\n",
      " [ 5.  3.  1.]]\n"
     ]
    }
   ],
   "source": [
    "# wap to which sustract the mean of each row from a matrix \n",
    "matrix = np.arange(9).reshape(3,3)\n",
    "print(matrix)\n",
    "row_mean = np.mean(matrix, axis = 1)\n",
    "result = matrix - row_mean\n",
    "print(result)\n"
   ]
  },
  {
   "cell_type": "code",
   "execution_count": 21,
   "id": "a04c37e4",
   "metadata": {},
   "outputs": [
    {
     "name": "stdout",
     "output_type": "stream",
     "text": [
      "20\n"
     ]
    }
   ],
   "source": [
    "# q2 Q2. Write a python program to count the number of elements in 2D array. \n",
    "#Test case: Input: np.array([1, 2])\n",
    "# Expected Output: 2\n",
    "a = np.arange(20).reshape(4,5)\n",
    "b = (a.size)\n",
    "print(b)\n"
   ]
  },
  {
   "cell_type": "code",
   "execution_count": 40,
   "id": "82ef3f19",
   "metadata": {},
   "outputs": [
    {
     "name": "stdout",
     "output_type": "stream",
     "text": [
      "[7. 6. 5. 4. 3. 2. 1. 0.]\n"
     ]
    }
   ],
   "source": [
    "'''\n",
    "Q3. You are given a space separated list of numbers. Your task is to print a reversed NumPy array with the element type float. \n",
    "Test Case: Input: 1 2 3 4 5 6 7 8 Expected Output: [8.0 7.0 6.0 5.0 4.0 3.0 2.0 1.0]'''\n",
    "#a = list(input('enter the list of numbers '))\n",
    "m = np.arange(8)\n",
    "a = m.astype(float)\n",
    "print(a[::-1])\n",
    "\n"
   ]
  },
  {
   "cell_type": "code",
   "execution_count": 54,
   "id": "9b3a110f",
   "metadata": {},
   "outputs": [
    {
     "name": "stdout",
     "output_type": "stream",
     "text": [
      "[[1. 1. 1. 1.]\n",
      " [1. 0. 0. 1.]\n",
      " [1. 0. 0. 1.]\n",
      " [1. 1. 1. 1.]]\n"
     ]
    }
   ],
   "source": [
    "#'''Q5. Write a function to create a 2d array with 1 on the border and 0 inside. Take 2-D array shape as (a, b) as parameter to function. \n",
    "#Input: a = 4 b = 4 \n",
    "#Expected Output:\n",
    "#[[1,1,1,1],\n",
    "#[1,0,0,1], \n",
    "#[1,0,0,1],\n",
    "#1,1,1,1]]\n",
    "def bodered_array(a,b):\n",
    "    if a <=1 or b <=1:\n",
    "        return np.ones(a,b)\n",
    "    arr = np.ones((a,b))\n",
    "    arr[1:-1,1:-1] = 0\n",
    "    return arr\n",
    "\n",
    "c = bodered_array(4,4)\n",
    "print(c)\n"
   ]
  },
  {
   "cell_type": "code",
   "execution_count": null,
   "id": "3119cfdf",
   "metadata": {},
   "outputs": [
    {
     "name": "stdout",
     "output_type": "stream",
     "text": [
      "[6 3 1 7 8]\n"
     ]
    }
   ],
   "source": [
    "#Q7. Write a program which makes an array having corresponding max value out of two given arrays. \n",
    "#Input:\n",
    "# a=np.array([6,3,1,5,8])\n",
    "# b=np.array([3,2,1,7,2])\n",
    "# Output: [6 3 1 7 8]\n",
    "a=np.array([6,3,1,5,8])\n",
    "b=np.array([3,2,1,7,2])\n",
    "c = np.maximum(a,b)\n",
    "print(c)\n"
   ]
  },
  {
   "cell_type": "code",
   "execution_count": null,
   "id": "171476aa",
   "metadata": {},
   "outputs": [
    {
     "name": "stdout",
     "output_type": "stream",
     "text": [
      "[[0 1 2 3 4]\n",
      " [5 6 7 8 9]\n",
      " [1 1 1 1 1]\n",
      " [1 1 1 1 1]]\n"
     ]
    }
   ],
   "source": [
    "'''\n",
    "Q8. Write a python function that accepts infinite number of numpy arrays and do the \n",
    "vertical stack to them. Then return that new array as result. The function only accepts the numpy array, otherwise raise error. \n",
    "Test Case: Input: a= [[0 1 2 3 4] [5 6 7 8 9]] \n",
    "b= [[1 1 1 1 1] [1 1 1 1 1]] \n",
    "Output:\n",
    " [[0 1 2 3 4] \n",
    "[5 6 7 8 9] \n",
    "[1 1 1 1 1]\n",
    " [1 1 1 1 1]]\n",
    "\n",
    "'''\n",
    "a= np.array([[0, 1, 2, 3 ,4], [5, 6, 7, 8, 9]]) \n",
    "b= np.array([[1, 1, 1, 1, 1], [1, 1, 1, 1, 1]]) \n",
    "c= np.vstack((a,b))\n",
    "print(c)\n"
   ]
  },
  {
   "cell_type": "code",
   "execution_count": 72,
   "id": "331599b6",
   "metadata": {},
   "outputs": [
    {
     "data": {
      "text/plain": [
       "array([1, 2, 0, 4, 0, 0, 7, 8, 0])"
      ]
     },
     "execution_count": 72,
     "metadata": {},
     "output_type": "execute_result"
    }
   ],
   "source": [
    "'''Q 9. Write a python program to replace multiples of 3 or 5 as 0 in the given\n",
    "array.\n",
    "Input: arr=[1 2 3 4 5 6 7 9]\n",
    "Expected Output: [1 2 0 4 0 0 7 0]\n",
    "'''\n",
    "arr = np.array([1,2,3,4,5,6,7,8,9])\n",
    "index = [2,4,5,8]\n",
    "arr[index] = 0 \n",
    "arr\n",
    "        \n",
    "        "
   ]
  },
  {
   "cell_type": "code",
   "execution_count": null,
   "id": "ee07f136",
   "metadata": {},
   "outputs": [
    {
     "data": {
      "text/plain": [
       "array([ 1,  2,  6,  8, 10,  6,  7,  8, 18])"
      ]
     },
     "execution_count": 75,
     "metadata": {},
     "output_type": "execute_result"
    }
   ],
   "source": [
    "# Q.10  Solve the given  problem using fancy Indexing:\n",
    "#1. Double the array elements at given indexes\n",
    "#Given:\n",
    "#arr = np.arrange(10)\n",
    "#indexes = [0,3,4,9]\n",
    "#Expected Output: [ 0 1 2 6 8 5 6 7 8 18]\n",
    "\n",
    "arr = np.array([1,2,3,4,5,6,7,8,9])\n",
    "index = [2,3,4,8]\n",
    "arr[index] *= 2\n",
    "arr\n"
   ]
  },
  {
   "cell_type": "code",
   "execution_count": null,
   "id": "200ad144",
   "metadata": {},
   "outputs": [],
   "source": [
    "'''\n",
    "Q.11 Using a given array make a different array as in below example\n",
    "array = [1,2,3]\n",
    "result array -> [1 1 1 2 2 2 3 3 3]\n",
    "• Internal repeation should be as length of the array.\n",
    "'''\n",
    "arr = np.array([1,2,3])\n"
   ]
  }
 ],
 "metadata": {
  "kernelspec": {
   "display_name": "Python 3",
   "language": "python",
   "name": "python3"
  },
  "language_info": {
   "codemirror_mode": {
    "name": "ipython",
    "version": 3
   },
   "file_extension": ".py",
   "mimetype": "text/x-python",
   "name": "python",
   "nbconvert_exporter": "python",
   "pygments_lexer": "ipython3",
   "version": "3.13.2"
  }
 },
 "nbformat": 4,
 "nbformat_minor": 5
}
