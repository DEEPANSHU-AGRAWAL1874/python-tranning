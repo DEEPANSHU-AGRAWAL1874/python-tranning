{
 "cells": [
  {
   "cell_type": "code",
   "execution_count": 1,
   "id": "93ad2545",
   "metadata": {},
   "outputs": [],
   "source": [
    "#creating empty list \n",
    "lst  = []\n",
    "lst1 = list()\n"
   ]
  },
  {
   "cell_type": "markdown",
   "id": "25d1e9c6",
   "metadata": {},
   "source": [
    "## update list\n"
   ]
  },
  {
   "cell_type": "code",
   "execution_count": 3,
   "id": "7c0a44ac",
   "metadata": {},
   "outputs": [],
   "source": [
    "fruits = ['apple', 'banana', ' cherry', 'kiwi','guava']"
   ]
  },
  {
   "cell_type": "code",
   "execution_count": 8,
   "id": "4db26015",
   "metadata": {},
   "outputs": [
    {
     "name": "stdout",
     "output_type": "stream",
     "text": [
      "['apple', 'banana', 'watermelon', 'kiwi', 'guava']\n"
     ]
    }
   ],
   "source": [
    "fruits[-3] = 'watermelon'\n",
    "print(fruits)"
   ]
  },
  {
   "cell_type": "markdown",
   "id": "b2ac9990",
   "metadata": {},
   "source": [
    "add the element in the last \n"
   ]
  },
  {
   "cell_type": "code",
   "execution_count": 11,
   "id": "f5990d74",
   "metadata": {},
   "outputs": [
    {
     "name": "stdout",
     "output_type": "stream",
     "text": [
      "['apple', 'banana', 'watermelon', 'kiwi', 'guava', 'lichi', 'lichi', 'lichi']\n"
     ]
    }
   ],
   "source": [
    "fruits.append('lichi')\n",
    "print(fruits)"
   ]
  },
  {
   "cell_type": "markdown",
   "id": "0c9d2c19",
   "metadata": {},
   "source": [
    "insert at specific position"
   ]
  },
  {
   "cell_type": "code",
   "execution_count": 17,
   "id": "d93a9aca",
   "metadata": {},
   "outputs": [
    {
     "name": "stdout",
     "output_type": "stream",
     "text": [
      "['apple', 'banana', 'watermelon', 'hii', 'hii', 'hello', 'hello', 'kiwi', 'guava', 'hii', 'lichi', 'lichi', 'lichi']\n"
     ]
    }
   ],
   "source": [
    "fruits.insert(3,'hii')\n",
    "print(fruits)"
   ]
  },
  {
   "cell_type": "markdown",
   "id": "6302ae05",
   "metadata": {},
   "source": [
    "## extend\n"
   ]
  },
  {
   "cell_type": "code",
   "execution_count": 19,
   "id": "834dd703",
   "metadata": {},
   "outputs": [
    {
     "name": "stdout",
     "output_type": "stream",
     "text": [
      "[4, 5, 6, [1, 2, 3]]\n"
     ]
    }
   ],
   "source": [
    "list1 = [1,2,3]\n",
    "list2 = [4,5,6]\n",
    "list2.append(list1)\n",
    "print(list2)"
   ]
  },
  {
   "cell_type": "code",
   "execution_count": 21,
   "id": "b1fbd88e",
   "metadata": {},
   "outputs": [
    {
     "name": "stdout",
     "output_type": "stream",
     "text": [
      "[4, 5, 6, [1, 2, 3], 1, 2, 3, 1, 2, 3]\n"
     ]
    }
   ],
   "source": [
    "list2.extend(list1)\n",
    "print(list2)"
   ]
  },
  {
   "cell_type": "code",
   "execution_count": 22,
   "id": "4905574c",
   "metadata": {},
   "outputs": [
    {
     "name": "stdout",
     "output_type": "stream",
     "text": [
      "[4, 5, 6, 1, 2, 3, [4, 7], 9]\n"
     ]
    }
   ],
   "source": [
    "list1 = [1,2,3,[4,7],9]\n",
    "list2 = [4,5,6]\n",
    "list2.extend(list1)\n",
    "print(list2)"
   ]
  },
  {
   "cell_type": "code",
   "execution_count": 24,
   "id": "9f70dbca",
   "metadata": {},
   "outputs": [
    {
     "name": "stdout",
     "output_type": "stream",
     "text": [
      "[4, 5, 6, 3, [4, 7], 9]\n"
     ]
    }
   ],
   "source": [
    "del list2[3]\n",
    "print(list2)"
   ]
  },
  {
   "cell_type": "markdown",
   "id": "864d91c8",
   "metadata": {},
   "source": [
    "## del"
   ]
  },
  {
   "cell_type": "code",
   "execution_count": 27,
   "id": "38dec095",
   "metadata": {},
   "outputs": [
    {
     "ename": "NameError",
     "evalue": "name 'list1' is not defined",
     "output_type": "error",
     "traceback": [
      "\u001b[1;31m---------------------------------------------------------------------------\u001b[0m",
      "\u001b[1;31mNameError\u001b[0m                                 Traceback (most recent call last)",
      "Cell \u001b[1;32mIn[27], line 1\u001b[0m\n\u001b[1;32m----> 1\u001b[0m \u001b[38;5;28;01mdel\u001b[39;00m \u001b[43mlist1\u001b[49m\n\u001b[0;32m      2\u001b[0m \u001b[38;5;28mprint\u001b[39m(list1)\n",
      "\u001b[1;31mNameError\u001b[0m: name 'list1' is not defined"
     ]
    }
   ],
   "source": [
    "del list1\n",
    "print(list1)"
   ]
  },
  {
   "cell_type": "markdown",
   "id": "8aaee85b",
   "metadata": {},
   "source": [
    "## pop()"
   ]
  },
  {
   "cell_type": "code",
   "execution_count": 28,
   "id": "a6878b87",
   "metadata": {},
   "outputs": [
    {
     "name": "stdout",
     "output_type": "stream",
     "text": [
      "[1, 2, 3, 5]\n",
      "4\n"
     ]
    }
   ],
   "source": [
    "lst = [1,2,3,4,5]\n",
    "a = lst.pop(3)\n",
    "print(lst)\n",
    "print(a)"
   ]
  },
  {
   "cell_type": "markdown",
   "id": "3ba755c6",
   "metadata": {},
   "source": [
    "## remove()"
   ]
  },
  {
   "cell_type": "code",
   "execution_count": 29,
   "id": "f9dac821",
   "metadata": {},
   "outputs": [
    {
     "name": "stdout",
     "output_type": "stream",
     "text": [
      "[1, 2, 3, 4, 2, 1, 1, 2, 3, 4, 5, 1, 'qww']\n",
      "[2, 3, 4, 2, 1, 1, 2, 3, 4, 5, 1, 'qww']\n"
     ]
    }
   ],
   "source": [
    "lst = [1,2,3,4,2,1,1,2,3,4,5,1,'qww']\n",
    "print(lst)\n",
    "lst.remove(1)\n",
    "print(lst)"
   ]
  },
  {
   "cell_type": "markdown",
   "id": "f2f750f9",
   "metadata": {},
   "source": [
    "count()"
   ]
  },
  {
   "cell_type": "code",
   "execution_count": 31,
   "id": "ba647c6f",
   "metadata": {},
   "outputs": [
    {
     "name": "stdout",
     "output_type": "stream",
     "text": [
      "4\n"
     ]
    }
   ],
   "source": [
    "num = [1,2,3,4,5,5,5,5,4,3,3,3,21]\n",
    "print(num.count(5))"
   ]
  },
  {
   "cell_type": "code",
   "execution_count": 32,
   "id": "60f24915",
   "metadata": {},
   "outputs": [],
   "source": [
    "## reverse()"
   ]
  },
  {
   "cell_type": "code",
   "execution_count": 38,
   "id": "d8e0a287",
   "metadata": {},
   "outputs": [
    {
     "name": "stdout",
     "output_type": "stream",
     "text": [
      "[21, 3, 3, 3, 4, 5, 5, 5, 5, 4, 3, 2, 1]\n"
     ]
    }
   ],
   "source": [
    "num.reverse()\n",
    "#[::-1]\n",
    "print(num)"
   ]
  },
  {
   "cell_type": "markdown",
   "id": "8bdf2713",
   "metadata": {},
   "source": [
    "## index"
   ]
  },
  {
   "cell_type": "code",
   "execution_count": 40,
   "id": "a48f5c5a",
   "metadata": {},
   "outputs": [
    {
     "data": {
      "text/plain": [
       "1"
      ]
     },
     "execution_count": 40,
     "metadata": {},
     "output_type": "execute_result"
    }
   ],
   "source": [
    "lst = [ 2,5,'asdfg',2]\n",
    "lst.index(5)"
   ]
  },
  {
   "cell_type": "code",
   "execution_count": 41,
   "id": "55d0329a",
   "metadata": {},
   "outputs": [
    {
     "name": "stdout",
     "output_type": "stream",
     "text": [
      "11\n",
      "22\n",
      "33\n",
      "4\n",
      "5\n"
     ]
    }
   ],
   "source": [
    "num = [11,22,33,4,5]\n",
    "for i in range(len(num)):\n",
    "    print(num[i])"
   ]
  },
  {
   "cell_type": "code",
   "execution_count": 44,
   "id": "2cdd4e98",
   "metadata": {},
   "outputs": [
    {
     "name": "stdout",
     "output_type": "stream",
     "text": [
      "e = 5 o = 5\n"
     ]
    }
   ],
   "source": [
    "lst = [3,5,7,9,2,4,8,11,12,14]\n",
    "e = 0\n",
    "o = 0\n",
    "for i in lst:\n",
    "    if i%2 == 0:\n",
    "        e += 1\n",
    "    else:\n",
    "        o+=1\n",
    "print(\"e =\",e,\"o =\",o)"
   ]
  },
  {
   "cell_type": "code",
   "execution_count": 53,
   "id": "3b280b7d",
   "metadata": {},
   "outputs": [
    {
     "name": "stdout",
     "output_type": "stream",
     "text": [
      "[-2, 7, 0, 9, 2]\n"
     ]
    }
   ],
   "source": [
    "lst = eval(input())\n",
    "#lst= [1,2,3,4,4,5,5]\n",
    "for  i in range(len(lst)):\n",
    "    if lst[i]%2==0:\n",
    "        lst[i]+=5\n",
    "    else :\n",
    "        lst[i]-=3\n",
    "print(lst)"
   ]
  },
  {
   "cell_type": "code",
   "execution_count": null,
   "id": "855dd2a6",
   "metadata": {},
   "outputs": [],
   "source": []
  }
 ],
 "metadata": {
  "kernelspec": {
   "display_name": "Python 3",
   "language": "python",
   "name": "python3"
  },
  "language_info": {
   "codemirror_mode": {
    "name": "ipython",
    "version": 3
   },
   "file_extension": ".py",
   "mimetype": "text/x-python",
   "name": "python",
   "nbconvert_exporter": "python",
   "pygments_lexer": "ipython3",
   "version": "3.13.2"
  }
 },
 "nbformat": 4,
 "nbformat_minor": 5
}
