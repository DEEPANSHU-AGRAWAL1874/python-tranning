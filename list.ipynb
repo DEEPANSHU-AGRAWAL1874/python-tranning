{
 "cells": [
  {
   "cell_type": "code",
   "execution_count": 1,
   "id": "93ad2545",
   "metadata": {},
   "outputs": [],
   "source": [
    "#creating empty list \n",
    "lst  = []\n",
    "lst1 = list()\n"
   ]
  },
  {
   "cell_type": "markdown",
   "id": "25d1e9c6",
   "metadata": {},
   "source": [
    "## update list\n"
   ]
  },
  {
   "cell_type": "code",
   "execution_count": 3,
   "id": "7c0a44ac",
   "metadata": {},
   "outputs": [],
   "source": [
    "fruits = ['apple', 'banana', ' cherry', 'kiwi','guava']"
   ]
  },
  {
   "cell_type": "code",
   "execution_count": 8,
   "id": "4db26015",
   "metadata": {},
   "outputs": [
    {
     "name": "stdout",
     "output_type": "stream",
     "text": [
      "['apple', 'banana', 'watermelon', 'kiwi', 'guava']\n"
     ]
    }
   ],
   "source": [
    "fruits[-3] = 'watermelon'\n",
    "print(fruits)"
   ]
  },
  {
   "cell_type": "markdown",
   "id": "b2ac9990",
   "metadata": {},
   "source": [
    "add the element in the last \n"
   ]
  },
  {
   "cell_type": "code",
   "execution_count": 11,
   "id": "f5990d74",
   "metadata": {},
   "outputs": [
    {
     "name": "stdout",
     "output_type": "stream",
     "text": [
      "['apple', 'banana', 'watermelon', 'kiwi', 'guava', 'lichi', 'lichi', 'lichi']\n"
     ]
    }
   ],
   "source": [
    "fruits.append('lichi')\n",
    "print(fruits)"
   ]
  },
  {
   "cell_type": "markdown",
   "id": "0c9d2c19",
   "metadata": {},
   "source": [
    "insert at specific position"
   ]
  },
  {
   "cell_type": "code",
   "execution_count": 17,
   "id": "d93a9aca",
   "metadata": {},
   "outputs": [
    {
     "name": "stdout",
     "output_type": "stream",
     "text": [
      "['apple', 'banana', 'watermelon', 'hii', 'hii', 'hello', 'hello', 'kiwi', 'guava', 'hii', 'lichi', 'lichi', 'lichi']\n"
     ]
    }
   ],
   "source": [
    "fruits.insert(3,'hii')\n",
    "print(fruits)"
   ]
  },
  {
   "cell_type": "markdown",
   "id": "6302ae05",
   "metadata": {},
   "source": [
    "## extend\n"
   ]
  },
  {
   "cell_type": "code",
   "execution_count": 19,
   "id": "834dd703",
   "metadata": {},
   "outputs": [
    {
     "name": "stdout",
     "output_type": "stream",
     "text": [
      "[4, 5, 6, [1, 2, 3]]\n"
     ]
    }
   ],
   "source": [
    "list1 = [1,2,3]\n",
    "list2 = [4,5,6]\n",
    "list2.append(list1)\n",
    "print(list2)"
   ]
  },
  {
   "cell_type": "code",
   "execution_count": 21,
   "id": "b1fbd88e",
   "metadata": {},
   "outputs": [
    {
     "name": "stdout",
     "output_type": "stream",
     "text": [
      "[4, 5, 6, [1, 2, 3], 1, 2, 3, 1, 2, 3]\n"
     ]
    }
   ],
   "source": [
    "list2.extend(list1)\n",
    "print(list2)"
   ]
  },
  {
   "cell_type": "code",
   "execution_count": 22,
   "id": "4905574c",
   "metadata": {},
   "outputs": [
    {
     "name": "stdout",
     "output_type": "stream",
     "text": [
      "[4, 5, 6, 1, 2, 3, [4, 7], 9]\n"
     ]
    }
   ],
   "source": [
    "list1 = [1,2,3,[4,7],9]\n",
    "list2 = [4,5,6]\n",
    "list2.extend(list1)\n",
    "print(list2)"
   ]
  },
  {
   "cell_type": "code",
   "execution_count": 24,
   "id": "9f70dbca",
   "metadata": {},
   "outputs": [
    {
     "name": "stdout",
     "output_type": "stream",
     "text": [
      "[4, 5, 6, 3, [4, 7], 9]\n"
     ]
    }
   ],
   "source": [
    "del list2[3]\n",
    "print(list2)"
   ]
  },
  {
   "cell_type": "markdown",
   "id": "864d91c8",
   "metadata": {},
   "source": [
    "## del"
   ]
  },
  {
   "cell_type": "code",
   "execution_count": 27,
   "id": "38dec095",
   "metadata": {},
   "outputs": [
    {
     "ename": "NameError",
     "evalue": "name 'list1' is not defined",
     "output_type": "error",
     "traceback": [
      "\u001b[1;31m---------------------------------------------------------------------------\u001b[0m",
      "\u001b[1;31mNameError\u001b[0m                                 Traceback (most recent call last)",
      "Cell \u001b[1;32mIn[27], line 1\u001b[0m\n\u001b[1;32m----> 1\u001b[0m \u001b[38;5;28;01mdel\u001b[39;00m \u001b[43mlist1\u001b[49m\n\u001b[0;32m      2\u001b[0m \u001b[38;5;28mprint\u001b[39m(list1)\n",
      "\u001b[1;31mNameError\u001b[0m: name 'list1' is not defined"
     ]
    }
   ],
   "source": [
    "del list1\n",
    "print(list1)"
   ]
  },
  {
   "cell_type": "markdown",
   "id": "8aaee85b",
   "metadata": {},
   "source": [
    "## pop()"
   ]
  },
  {
   "cell_type": "code",
   "execution_count": 28,
   "id": "a6878b87",
   "metadata": {},
   "outputs": [
    {
     "name": "stdout",
     "output_type": "stream",
     "text": [
      "[1, 2, 3, 5]\n",
      "4\n"
     ]
    }
   ],
   "source": [
    "lst = [1,2,3,4,5]\n",
    "a = lst.pop(3)\n",
    "print(lst)\n",
    "print(a)"
   ]
  },
  {
   "cell_type": "markdown",
   "id": "3ba755c6",
   "metadata": {},
   "source": [
    "## remove()"
   ]
  },
  {
   "cell_type": "code",
   "execution_count": 29,
   "id": "f9dac821",
   "metadata": {},
   "outputs": [
    {
     "name": "stdout",
     "output_type": "stream",
     "text": [
      "[1, 2, 3, 4, 2, 1, 1, 2, 3, 4, 5, 1, 'qww']\n",
      "[2, 3, 4, 2, 1, 1, 2, 3, 4, 5, 1, 'qww']\n"
     ]
    }
   ],
   "source": [
    "lst = [1,2,3,4,2,1,1,2,3,4,5,1,'qww']\n",
    "print(lst)\n",
    "lst.remove(1)\n",
    "print(lst)"
   ]
  },
  {
   "cell_type": "markdown",
   "id": "f2f750f9",
   "metadata": {},
   "source": [
    "count()"
   ]
  },
  {
   "cell_type": "code",
   "execution_count": 31,
   "id": "ba647c6f",
   "metadata": {},
   "outputs": [
    {
     "name": "stdout",
     "output_type": "stream",
     "text": [
      "4\n"
     ]
    }
   ],
   "source": [
    "num = [1,2,3,4,5,5,5,5,4,3,3,3,21]\n",
    "print(num.count(5))"
   ]
  },
  {
   "cell_type": "code",
   "execution_count": 32,
   "id": "60f24915",
   "metadata": {},
   "outputs": [],
   "source": [
    "## reverse()"
   ]
  },
  {
   "cell_type": "code",
   "execution_count": 38,
   "id": "d8e0a287",
   "metadata": {},
   "outputs": [
    {
     "name": "stdout",
     "output_type": "stream",
     "text": [
      "[21, 3, 3, 3, 4, 5, 5, 5, 5, 4, 3, 2, 1]\n"
     ]
    }
   ],
   "source": [
    "num.reverse()\n",
    "#[::-1]\n",
    "print(num)"
   ]
  },
  {
   "cell_type": "markdown",
   "id": "8bdf2713",
   "metadata": {},
   "source": [
    "## index"
   ]
  },
  {
   "cell_type": "code",
   "execution_count": 40,
   "id": "a48f5c5a",
   "metadata": {},
   "outputs": [
    {
     "data": {
      "text/plain": [
       "1"
      ]
     },
     "execution_count": 40,
     "metadata": {},
     "output_type": "execute_result"
    }
   ],
   "source": [
    "lst = [ 2,5,'asdfg',2]\n",
    "lst.index(5)"
   ]
  },
  {
   "cell_type": "code",
   "execution_count": 41,
   "id": "55d0329a",
   "metadata": {},
   "outputs": [
    {
     "name": "stdout",
     "output_type": "stream",
     "text": [
      "11\n",
      "22\n",
      "33\n",
      "4\n",
      "5\n"
     ]
    }
   ],
   "source": [
    "num = [11,22,33,4,5]\n",
    "for i in range(len(num)):\n",
    "    print(num[i])"
   ]
  },
  {
   "cell_type": "code",
   "execution_count": 44,
   "id": "2cdd4e98",
   "metadata": {},
   "outputs": [
    {
     "name": "stdout",
     "output_type": "stream",
     "text": [
      "e = 5 o = 5\n"
     ]
    }
   ],
   "source": [
    "lst = [3,5,7,9,2,4,8,11,12,14]\n",
    "e = 0\n",
    "o = 0\n",
    "for i in lst:\n",
    "    if i%2 == 0:\n",
    "        e += 1\n",
    "    else:\n",
    "        o+=1\n",
    "print(\"e =\",e,\"o =\",o)"
   ]
  },
  {
   "cell_type": "code",
   "execution_count": 53,
   "id": "3b280b7d",
   "metadata": {},
   "outputs": [
    {
     "name": "stdout",
     "output_type": "stream",
     "text": [
      "[-2, 7, 0, 9, 2]\n"
     ]
    }
   ],
   "source": [
    "lst = eval(input())\n",
    "#lst= [1,2,3,4,4,5,5]\n",
    "for  i in range(len(lst)):\n",
    "    if lst[i]%2==0:\n",
    "        lst[i]+=5\n",
    "    else :\n",
    "        lst[i]-=3\n",
    "print(lst)"
   ]
  },
  {
   "cell_type": "code",
   "execution_count": 2,
   "id": "855dd2a6",
   "metadata": {},
   "outputs": [
    {
     "name": "stdout",
     "output_type": "stream",
     "text": [
      "[5, 3, 9, 7, 8, 2, 15, 11, 14, 12]\n"
     ]
    }
   ],
   "source": [
    "lst = [3,5,7,9,2,8,11,15,12,14]\n",
    "for i in range(0,len(lst),2):\n",
    "    lst[i],lst[i+1] = lst[i+1],lst[i]\n",
    "print(lst)\n",
    "    "
   ]
  },
  {
   "cell_type": "code",
   "execution_count": 5,
   "id": "dcd39351",
   "metadata": {},
   "outputs": [
    {
     "name": "stdout",
     "output_type": "stream",
     "text": [
      "15\n"
     ]
    }
   ],
   "source": [
    "# wap which print largest element of the list \n",
    "lst = [3,5,7,9,2,8,11,15,12,14]\n",
    "temp = lst[0]\n",
    " \n",
    "for i in range(0,len(lst)):\n",
    "    if lst[i] > temp:\n",
    "        temp = lst[i]\n",
    "print(temp)"
   ]
  },
  {
   "cell_type": "code",
   "execution_count": 22,
   "id": "03eff203",
   "metadata": {},
   "outputs": [
    {
     "name": "stdout",
     "output_type": "stream",
     "text": [
      "14\n"
     ]
    }
   ],
   "source": [
    "# second largest \n",
    "lst = [3,5,7,9,2,8,11,15,12,14,]\n",
    "max_1 = lst[0]\n",
    "max_2 = lst[1]\n",
    "for i in range(2,len(lst)):\n",
    "    if lst[i] > max_1:\n",
    "        max_2 = max_1\n",
    "        max_1 = lst[i]\n",
    "    \n",
    "    elif lst[i] > max_2:\n",
    "        max_2 = lst[i]\n",
    "print(max_2)"
   ]
  },
  {
   "cell_type": "code",
   "execution_count": 27,
   "id": "e4649a19",
   "metadata": {},
   "outputs": [
    {
     "name": "stdout",
     "output_type": "stream",
     "text": [
      "8\n"
     ]
    }
   ],
   "source": [
    "lst = [1,2,3,4,5,6,7,8,9,10]\n",
    "num = int(input('enter the number '))\n",
    "temp = 0\n",
    "for i in range(1,len(lst)):\n",
    "    if num % lst[i]== 0:\n",
    "       temp += lst[i]\n",
    "print(temp)       \n",
    "     "
   ]
  },
  {
   "cell_type": "code",
   "execution_count": 61,
   "id": "ab617e07",
   "metadata": {},
   "outputs": [
    {
     "name": "stdout",
     "output_type": "stream",
     "text": [
      "[25, 20, 16, 12]\n"
     ]
    }
   ],
   "source": [
    "lst = [25,3,2,20,8,16,6,12,10]\n",
    "lst.reverse()\n",
    "temp = lst[0]\n",
    "lst1 =[]\n",
    "for i in lst:\n",
    "    if i > temp:\n",
    "        temp = i\n",
    "        lst1.append(temp)\n",
    "lst1.reverse()        \n",
    "print(lst1)\n"
   ]
  },
  {
   "cell_type": "code",
   "execution_count": 68,
   "id": "7c8de88a",
   "metadata": {},
   "outputs": [
    {
     "name": "stdout",
     "output_type": "stream",
     "text": [
      "[25]\n"
     ]
    }
   ],
   "source": [
    "lst = [25,3,2,20,8,16,6,12,10]\n",
    "temp = lst[0]\n",
    "lst1 =[temp]\n",
    "for i in lst:\n",
    "    if i > temp:\n",
    "        temp = i\n",
    "        lst1.append(lst1)       \n",
    "print(lst1)\n"
   ]
  },
  {
   "cell_type": "code",
   "execution_count": 74,
   "id": "772cfe35",
   "metadata": {},
   "outputs": [
    {
     "name": "stdout",
     "output_type": "stream",
     "text": [
      "[9, 25, 49, 4, 64, 81]\n"
     ]
    }
   ],
   "source": [
    "lst = [3,5,7,2,8,9]\n",
    "lst1 = []\n",
    "for i in lst:\n",
    "    lst1.append(i*i)\n",
    "    \n",
    "print(lst1)"
   ]
  },
  {
   "cell_type": "code",
   "execution_count": null,
   "id": "19cda4e3",
   "metadata": {},
   "outputs": [
    {
     "name": "stdout",
     "output_type": "stream",
     "text": [
      "[49]\n"
     ]
    }
   ],
   "source": [
    "lst = [3,5,7,2,8,9]\n",
    "lst1 = [ i**2 for i in lst]\n",
    "print(lst1)"
   ]
  },
  {
   "cell_type": "code",
   "execution_count": 84,
   "id": "257fd6c4",
   "metadata": {},
   "outputs": [
    {
     "name": "stdout",
     "output_type": "stream",
     "text": [
      "[3, 5, 8, 12]\n",
      "[-7, -3, -18, -23]\n"
     ]
    }
   ],
   "source": [
    "lst = [3,5,-7,8,-3,12,-18,-23]\n",
    "lst1 = [ i for i in lst if i>0]\n",
    "lst2 = [ i for i  in lst if i < 0]\n",
    "print(lst1)\n",
    "print(lst2)"
   ]
  },
  {
   "cell_type": "code",
   "execution_count": 94,
   "id": "2b1b4a1e",
   "metadata": {},
   "outputs": [
    {
     "data": {
      "text/plain": [
       "['odd', 'odd', 'odd', 'even', 'even', 'odd', 'even', 'odd', 'odd']"
      ]
     },
     "execution_count": 94,
     "metadata": {},
     "output_type": "execute_result"
    }
   ],
   "source": [
    "lst = [3,5,7,2,8,9,12,13,15]\n",
    "lst1 = ['even' if i%2==0 else 'odd' for i in lst ]\n",
    "lst1"
   ]
  },
  {
   "cell_type": "markdown",
   "id": "bc2853d4",
   "metadata": {},
   "source": [
    "sort sorted"
   ]
  },
  {
   "cell_type": "code",
   "execution_count": 97,
   "id": "7ee8a2bf",
   "metadata": {},
   "outputs": [
    {
     "name": "stdout",
     "output_type": "stream",
     "text": [
      "[1, 2, 3, 4, 5, 6, 87, 654, 9303]\n"
     ]
    },
    {
     "data": {
      "text/plain": [
       "[9303, 654, 87, 6, 5, 4, 3, 2, 1]"
      ]
     },
     "execution_count": 97,
     "metadata": {},
     "output_type": "execute_result"
    }
   ],
   "source": [
    "num = [1,2,4,3,5,6,87,9303,654]\n",
    "num.sort()\n",
    "print(num)\n",
    "num.sort(reverse = True)\n",
    "num"
   ]
  },
  {
   "cell_type": "code",
   "execution_count": 101,
   "id": "239c0c2e",
   "metadata": {},
   "outputs": [
    {
     "name": "stdout",
     "output_type": "stream",
     "text": [
      "[9303, 654, 87, 6, 5, 4, 3, 2, 1]\n"
     ]
    },
    {
     "data": {
      "text/plain": [
       "[1, 2, 4, 3, 5, 6, 87, 9303, 654]"
      ]
     },
     "execution_count": 101,
     "metadata": {},
     "output_type": "execute_result"
    }
   ],
   "source": [
    "num = [1,2,4,3,5,6,87,9303,654]\n",
    "x = sorted(num,reverse=True)\n",
    "print(x)\n",
    "num"
   ]
  },
  {
   "cell_type": "code",
   "execution_count": 102,
   "id": "28100117",
   "metadata": {},
   "outputs": [
    {
     "data": {
      "text/plain": [
       "1"
      ]
     },
     "execution_count": 102,
     "metadata": {},
     "output_type": "execute_result"
    }
   ],
   "source": [
    "min(num)"
   ]
  },
  {
   "cell_type": "code",
   "execution_count": 103,
   "id": "594c6990",
   "metadata": {},
   "outputs": [
    {
     "data": {
      "text/plain": [
       "9303"
      ]
     },
     "execution_count": 103,
     "metadata": {},
     "output_type": "execute_result"
    }
   ],
   "source": [
    "max(num)"
   ]
  },
  {
   "cell_type": "code",
   "execution_count": 104,
   "id": "16909ad4",
   "metadata": {},
   "outputs": [
    {
     "data": {
      "text/plain": [
       "10065"
      ]
     },
     "execution_count": 104,
     "metadata": {},
     "output_type": "execute_result"
    }
   ],
   "source": [
    "sum(num)"
   ]
  },
  {
   "cell_type": "code",
   "execution_count": null,
   "id": "0f1a6988",
   "metadata": {},
   "outputs": [
    {
     "name": "stdout",
     "output_type": "stream",
     "text": [
      "[9, 9, 8, 8]\n"
     ]
    }
   ],
   "source": [
    "lst = [[3,5,7,9],[8,2,5,9],[7,3,5,8],[8,3,2]]\n",
    "\n",
    "lst3 = [max(i) for i in lst ] \n",
    "    \n",
    "print(lst3) "
   ]
  },
  {
   "cell_type": "code",
   "execution_count": 155,
   "id": "f896ea90",
   "metadata": {},
   "outputs": [
    {
     "name": "stdout",
     "output_type": "stream",
     "text": [
      "[24, 14, 15, 3]\n"
     ]
    }
   ],
   "source": [
    "lst = [[3,5,7,9],[8,2,5,9],[7,3,5,8],[8,3,2]]\n",
    "lst1 = [ ]\n",
    "\n",
    "for i in lst:\n",
    "    a = 0\n",
    "    for j in i:\n",
    "        if j% 2 != 0:\n",
    "            a += j\n",
    "    lst1.append(a)\n",
    "print(lst1)\n"
   ]
  },
  {
   "cell_type": "code",
   "execution_count": 157,
   "id": "b91929cb",
   "metadata": {},
   "outputs": [
    {
     "name": "stdout",
     "output_type": "stream",
     "text": [
      "[[8, 5, 5, 9], [3, 2, 7, 9], [8, 3, 2, 8], [7, 3, 5, 6]]\n"
     ]
    }
   ],
   "source": [
    "lst = [[3,5,7,9],[8,2,5,9],[7,3,5,8],[8,3,2,6]]\n",
    "lst2 = [[8,5,5,9],[3,2,7,9],[8,3,2,8],[7,3,5,6]]\n",
    "\n",
    "for i in range(0,len(lst)-1,2):\n",
    "    for j in range(0,len(lst[j])-1,2):\n",
    "        lst[i][j],lst[i+1][j] = lst[i+1][j],lst[i][j]\n",
    "print(lst)\n",
    "\n",
    "    "
   ]
  },
  {
   "cell_type": "markdown",
   "id": "2da7c451",
   "metadata": {},
   "source": [
    "## tuple"
   ]
  },
  {
   "cell_type": "code",
   "execution_count": 158,
   "id": "c35527d9",
   "metadata": {},
   "outputs": [
    {
     "name": "stdout",
     "output_type": "stream",
     "text": [
      "() () (1, 2, 3, 4, 'hello')\n"
     ]
    }
   ],
   "source": [
    "tpl = ()\n",
    "tpl1 = tuple()\n",
    "tpl2 = (1,2,3,4,'hello')\n",
    "print(tpl,tpl1,tpl2)"
   ]
  },
  {
   "cell_type": "code",
   "execution_count": 159,
   "id": "665a7f58",
   "metadata": {},
   "outputs": [
    {
     "name": "stdout",
     "output_type": "stream",
     "text": [
      "<class 'int'>\n"
     ]
    }
   ],
   "source": [
    "tpl = (5)\n",
    "print(type(tpl))"
   ]
  },
  {
   "cell_type": "code",
   "execution_count": 162,
   "id": "2b3f03e6",
   "metadata": {},
   "outputs": [
    {
     "data": {
      "text/plain": [
       "2"
      ]
     },
     "execution_count": 162,
     "metadata": {},
     "output_type": "execute_result"
    }
   ],
   "source": [
    "tpl = (1,2,3,4,5,6,7)\n",
    "tpl[1] "
   ]
  },
  {
   "cell_type": "code",
   "execution_count": 163,
   "id": "bff598c5",
   "metadata": {},
   "outputs": [],
   "source": [
    "del tpl"
   ]
  },
  {
   "cell_type": "code",
   "execution_count": 165,
   "id": "9ce82b04",
   "metadata": {},
   "outputs": [
    {
     "name": "stdout",
     "output_type": "stream",
     "text": [
      "2204046310944\n",
      "(1, 2, 3, 4, 5, 7, 8, 9)\n",
      "2204046336064\n"
     ]
    }
   ],
   "source": [
    "tpl = (1,2,3,4,5)\n",
    "print(id(tpl))\n",
    "tpl +=(7,8,9)\n",
    "print(tpl)\n",
    "print(id(tpl))"
   ]
  },
  {
   "cell_type": "code",
   "execution_count": 166,
   "id": "b3d4a0d7",
   "metadata": {},
   "outputs": [
    {
     "name": "stdout",
     "output_type": "stream",
     "text": [
      "['__add__', '__class__', '__class_getitem__', '__contains__', '__delattr__', '__dir__', '__doc__', '__eq__', '__format__', '__ge__', '__getattribute__', '__getitem__', '__getnewargs__', '__getstate__', '__gt__', '__hash__', '__init__', '__init_subclass__', '__iter__', '__le__', '__len__', '__lt__', '__mul__', '__ne__', '__new__', '__reduce__', '__reduce_ex__', '__repr__', '__rmul__', '__setattr__', '__sizeof__', '__str__', '__subclasshook__', 'count', 'index']\n"
     ]
    }
   ],
   "source": [
    "print(dir(tpl))"
   ]
  },
  {
   "cell_type": "markdown",
   "id": "023667cd",
   "metadata": {},
   "source": [
    "## string"
   ]
  },
  {
   "cell_type": "code",
   "execution_count": 169,
   "id": "d6ca7d0b",
   "metadata": {},
   "outputs": [
    {
     "data": {
      "text/plain": [
       "(1, 2, 3, 4, 4, 5)"
      ]
     },
     "execution_count": 169,
     "metadata": {},
     "output_type": "execute_result"
    }
   ],
   "source": [
    "tpl = (1,2,3,4,4,5)\n",
    "list(tpl)\n",
    "tuple(tpl)"
   ]
  },
  {
   "cell_type": "code",
   "execution_count": 180,
   "id": "9399e19d",
   "metadata": {},
   "outputs": [
    {
     "name": "stdout",
     "output_type": "stream",
     "text": [
      "nt a t\n",
      "e h\n",
      "n Python\n",
      "L'LrPh\n",
      "hn\n",
      "on\n"
     ]
    }
   ],
   "source": [
    "str = \"Let's Learn Python\"\n",
    "print(str[::-3])\n",
    "print(str[7::4])\n",
    "print(str[10:])\n",
    "print(str[::3])\n",
    "print(str[-3:-10:-5])\n",
    "print(str[-2:])"
   ]
  },
  {
   "cell_type": "code",
   "execution_count": 182,
   "id": "5a0ab34b",
   "metadata": {},
   "outputs": [
    {
     "name": "stdout",
     "output_type": "stream",
     "text": [
      "pythonlearnig\n",
      "pythonlearnigpythonlearnigpythonlearnigpythonlearnig\n"
     ]
    }
   ],
   "source": [
    "s1 =\"python\"\n",
    "s2 = \"learnig\"\n",
    "s = s1 +s2\n",
    "print(s)\n",
    "print(s*4)\n"
   ]
  },
  {
   "cell_type": "code",
   "execution_count": 183,
   "id": "8fd51406",
   "metadata": {},
   "outputs": [
    {
     "name": "stdout",
     "output_type": "stream",
     "text": [
      "True\n",
      "True\n"
     ]
    }
   ],
   "source": [
    "print('o' in 'hello_world')\n",
    "print('a'  not in 'hello_world')"
   ]
  },
  {
   "cell_type": "code",
   "execution_count": 188,
   "id": "1230421e",
   "metadata": {},
   "outputs": [
    {
     "name": "stdout",
     "output_type": "stream",
     "text": [
      "python PYTHON\n",
      "Hello world\n"
     ]
    }
   ],
   "source": [
    "x = 'PYTHON'\n",
    "y = x.lower()\n",
    "z = x.upper()\n",
    "print(y,z)\n",
    "a = 'hello world'\n",
    "print(a.capitalize())"
   ]
  },
  {
   "cell_type": "code",
   "execution_count": 189,
   "id": "a9e57dca",
   "metadata": {},
   "outputs": [
    {
     "name": "stdout",
     "output_type": "stream",
     "text": [
      "['hello', 'i', 'am', 'learning', 'python']\n"
     ]
    }
   ],
   "source": [
    "# split \n",
    "str = 'hello i am learning python'\n",
    "lst = str.split()\n",
    "print(lst)"
   ]
  },
  {
   "cell_type": "code",
   "execution_count": 191,
   "id": "ec7af9cb",
   "metadata": {},
   "outputs": [
    {
     "name": "stdout",
     "output_type": "stream",
     "text": [
      "['0001', '1222', '1111', '33333']\n"
     ]
    }
   ],
   "source": [
    "str = \"0001-1222-1111-33333\"\n",
    "lst = str.split(sep = '-')\n",
    "print(lst)"
   ]
  },
  {
   "cell_type": "code",
   "execution_count": 193,
   "id": "b66abc12",
   "metadata": {},
   "outputs": [
    {
     "data": {
      "text/plain": [
       "'0001-1222-1111-33333'"
      ]
     },
     "execution_count": 193,
     "metadata": {},
     "output_type": "execute_result"
    }
   ],
   "source": [
    "lst= ['0001', '1222', '1111', '33333']\n",
    "lst1 = \"-\".join(lst)\n",
    "lst1"
   ]
  },
  {
   "cell_type": "code",
   "execution_count": 203,
   "id": "9d473c1c",
   "metadata": {},
   "outputs": [
    {
     "name": "stdout",
     "output_type": "stream",
     "text": [
      "01/02/2002\n",
      "day =  01\n",
      "month =  02\n",
      "year =  2002\n"
     ]
    }
   ],
   "source": [
    "date = eval(input('enter the date '))\n",
    "print(date) \n",
    "x = date.split(sep = \"/\")\n",
    "day = x[0]\n",
    "month = x[1]\n",
    "year = x[2]\n",
    "print('day = ',  day)\n",
    "print('month = ' , month)\n",
    "print('year = ', year)"
   ]
  },
  {
   "cell_type": "code",
   "execution_count": 214,
   "id": "929b0818",
   "metadata": {},
   "outputs": [
    {
     "name": "stdout",
     "output_type": "stream",
     "text": [
      "string: 7\n"
     ]
    }
   ],
   "source": [
    "x = eval(input('enter the string: '))\n",
    "y = x.split()\n",
    "index = 0 \n",
    "word = \" \"\n",
    "for i in range(len(y)): \n",
    "    if len(y[i])> len(word):\n",
    "        word = y[i]\n",
    "print(word, len(word))        \n",
    "           "
   ]
  },
  {
   "cell_type": "code",
   "execution_count": 217,
   "id": "2e650432",
   "metadata": {},
   "outputs": [
    {
     "name": "stdout",
     "output_type": "stream",
     "text": [
      "the string is palandrone \n"
     ]
    }
   ],
   "source": [
    "#wap to check the word is plandrome or not\n",
    "str = input(\"enter the string: \")\n",
    "\n",
    "if str[::] == str[::-1]:\n",
    "    print('the string is palandrone ')\n",
    "else:\n",
    "    print('no')\n",
    " "
   ]
  },
  {
   "cell_type": "code",
   "execution_count": 227,
   "id": "95df635f",
   "metadata": {},
   "outputs": [
    {
     "name": "stdout",
     "output_type": "stream",
     "text": [
      "Hello.everyone,let's .learn,python,\n"
     ]
    }
   ],
   "source": [
    "x = \"Hello,everyone.let's ,learn.python.\"\n",
    "x = x.replace (',','#')\n",
    "x = x.replace('.', ',')\n",
    "x = x.replace('#',\".\")\n",
    "print(x)    "
   ]
  },
  {
   "cell_type": "markdown",
   "id": "4e91f52c",
   "metadata": {},
   "source": [
    "## Set"
   ]
  },
  {
   "cell_type": "code",
   "execution_count": 234,
   "id": "b8888959",
   "metadata": {},
   "outputs": [
    {
     "data": {
      "text/plain": [
       "{1, 2, 3, 4, 6.99, 'hello'}"
      ]
     },
     "execution_count": 234,
     "metadata": {},
     "output_type": "execute_result"
    }
   ],
   "source": [
    "# muitable \n",
    "# stores immutable elements\n",
    "# unordered\n",
    "#{}\n",
    "st = {}\n",
    "st= set()\n",
    "st = {\"hello\",1,2,3,4,4,6.99}\n",
    "st"
   ]
  },
  {
   "cell_type": "code",
   "execution_count": 235,
   "id": "1e4ed7a4",
   "metadata": {},
   "outputs": [
    {
     "data": {
      "text/plain": [
       "{1, 2, 3}"
      ]
     },
     "execution_count": 235,
     "metadata": {},
     "output_type": "execute_result"
    }
   ],
   "source": [
    "s = {1,2}\n",
    "s.add(3)\n",
    "s"
   ]
  },
  {
   "cell_type": "code",
   "execution_count": 236,
   "id": "11a4e9d8",
   "metadata": {},
   "outputs": [
    {
     "data": {
      "text/plain": [
       "{1, 2, 3, 4, 5}"
      ]
     },
     "execution_count": 236,
     "metadata": {},
     "output_type": "execute_result"
    }
   ],
   "source": [
    "s = {1,2,3}\n",
    "s.update([1,2,3,4,5,])\n",
    "s"
   ]
  },
  {
   "cell_type": "code",
   "execution_count": 243,
   "id": "4ef71e97",
   "metadata": {},
   "outputs": [
    {
     "name": "stdout",
     "output_type": "stream",
     "text": [
      "{1, 2, 3, 5}\n"
     ]
    }
   ],
   "source": [
    "s = {1,2,3,4,5}\n",
    "s.remove(4)# if element is not present it will show error \n",
    "s.discard(6) # if element is not present it will not show error \n",
    "print(s)"
   ]
  },
  {
   "cell_type": "code",
   "execution_count": 247,
   "id": "7d0697e7",
   "metadata": {},
   "outputs": [
    {
     "name": "stdout",
     "output_type": "stream",
     "text": [
      "1\n",
      "{2, 3, 4, 5}\n"
     ]
    }
   ],
   "source": [
    "s = {1,2,3,4,5}\n",
    "# pop rendomly delete one element \n",
    "a = s.pop()\n",
    "print(a)\n",
    "print(s)"
   ]
  },
  {
   "cell_type": "code",
   "execution_count": 250,
   "id": "38ae3d3d",
   "metadata": {},
   "outputs": [
    {
     "name": "stdout",
     "output_type": "stream",
     "text": [
      "set()\n"
     ]
    }
   ],
   "source": [
    "s = {1,2,3,4,5}\n",
    "s.clear()# remove all elements\n",
    "\n",
    "print(s)"
   ]
  },
  {
   "cell_type": "code",
   "execution_count": 252,
   "id": "afb3c7e3",
   "metadata": {},
   "outputs": [],
   "source": [
    "s = {1,2,3,4,5}\n",
    "del s# delete all elements of set and set itself\n"
   ]
  },
  {
   "cell_type": "code",
   "execution_count": 260,
   "id": "d3d929d6",
   "metadata": {},
   "outputs": [
    {
     "name": "stdout",
     "output_type": "stream",
     "text": [
      "4\n"
     ]
    }
   ],
   "source": [
    "#wap which take string as input from user and count no. of unique no. characters in it \n",
    "str = input('enter the string')\n",
    "st = set()\n",
    "for char in str:\n",
    "    st.add(char)\n",
    "print(len(st))\n",
    " "
   ]
  },
  {
   "cell_type": "code",
   "execution_count": 269,
   "id": "5f38bc4e",
   "metadata": {},
   "outputs": [
    {
     "name": "stdout",
     "output_type": "stream",
     "text": [
      "hello how , they you are\n",
      "24\n"
     ]
    }
   ],
   "source": [
    "str = 'hello how are you , how are they'\n",
    "st = set()\n",
    "for word in str:\n",
    "    lst = str.split()\n",
    "    lst = list(set(lst))\n",
    "    lst = \" \".join(lst)\n",
    "print(lst)\n",
    "print(len(lst))"
   ]
  },
  {
   "cell_type": "code",
   "execution_count": 278,
   "id": "3284d205",
   "metadata": {},
   "outputs": [
    {
     "name": "stdout",
     "output_type": "stream",
     "text": [
      " hello how are you , they\n"
     ]
    }
   ],
   "source": [
    "str = 'hello how are you , how are they'\n",
    "lst = str.split()\n",
    "str2 = \"\"\n",
    "for i in lst:\n",
    "    if i not in str2:\n",
    "        str2+=\" \"+ i\n",
    "print(str2)\n"
   ]
  },
  {
   "cell_type": "code",
   "execution_count": 280,
   "id": "7636df54",
   "metadata": {},
   "outputs": [
    {
     "name": "stdout",
     "output_type": "stream",
     "text": [
      "hello how are you , they\n"
     ]
    }
   ],
   "source": [
    "str = 'hello how are you , how are they'\n",
    "lst = str.split()\n",
    "str2 = []\n",
    "for i in lst:\n",
    "    if i not in str2:\n",
    "        str2.append(i)\n",
    "str2 = \" \".join(str2)\n",
    "print(str2)"
   ]
  },
  {
   "cell_type": "code",
   "execution_count": 284,
   "id": "395bf9a9",
   "metadata": {},
   "outputs": [
    {
     "name": "stdout",
     "output_type": "stream",
     "text": [
      "{1, 2, 3, 4, 5, 6, 7}\n",
      "{1, 2, 3, 4, 5, 6, 7}\n",
      "{3, 4, 5}\n",
      "{3, 4, 5}\n"
     ]
    }
   ],
   "source": [
    "st ={1,2,3,4,5}\n",
    "st1 = {3,4,5,6,7}\n",
    "\n",
    "a = st |st1 # | union\n",
    "print(a)\n",
    "b  = st.union(st1)\n",
    "print(b)\n",
    "c = st & st1 # &  intersection\n",
    "print(c)\n",
    "d = st.intersection(st1)\n",
    "print(d)"
   ]
  },
  {
   "cell_type": "code",
   "execution_count": null,
   "id": "9cfdecb4",
   "metadata": {},
   "outputs": [
    {
     "name": "stdout",
     "output_type": "stream",
     "text": [
      "{1, 2}\n",
      "{1, 2}\n"
     ]
    }
   ],
   "source": [
    "st ={1,2,3,4,5}\n",
    "st1 = {3,4,5,6,7}\n",
    "a = st - st1 # - difference\n",
    "print(a)\n",
    "b  = st.difference(st1)\n",
    "print(b)"
   ]
  },
  {
   "cell_type": "code",
   "execution_count": 286,
   "id": "01cc0fd3",
   "metadata": {},
   "outputs": [
    {
     "name": "stdout",
     "output_type": "stream",
     "text": [
      "{1, 2, 6, 7}\n",
      "{1, 2, 6, 7}\n"
     ]
    }
   ],
   "source": [
    "st ={1,2,3,4,5}\n",
    "st1 = {3,4,5,6,7}\n",
    "a = st ^ st1 #  symmetric difference\n",
    "print(a)\n",
    "b  = st.symmetric_difference(st1)\n",
    "print(b)"
   ]
  },
  {
   "cell_type": "code",
   "execution_count": 289,
   "id": "e8be14c1",
   "metadata": {},
   "outputs": [
    {
     "name": "stdout",
     "output_type": "stream",
     "text": [
      "frozenset({1, 2, 3, 4, 5}) frozenset({3, 4, 5, 6, 7})\n"
     ]
    }
   ],
   "source": [
    "st = frozenset({1,2,3,4,5})\n",
    "st1 = frozenset([3,4,5,6,7])\n",
    "print(st,st1)\n",
    "# frosen set is the immuitable part of set "
   ]
  },
  {
   "cell_type": "code",
   "execution_count": null,
   "id": "12887a4a",
   "metadata": {},
   "outputs": [],
   "source": []
  }
 ],
 "metadata": {
  "kernelspec": {
   "display_name": "Python 3",
   "language": "python",
   "name": "python3"
  },
  "language_info": {
   "codemirror_mode": {
    "name": "ipython",
    "version": 3
   },
   "file_extension": ".py",
   "mimetype": "text/x-python",
   "name": "python",
   "nbconvert_exporter": "python",
   "pygments_lexer": "ipython3",
   "version": "3.13.2"
  }
 },
 "nbformat": 4,
 "nbformat_minor": 5
}
