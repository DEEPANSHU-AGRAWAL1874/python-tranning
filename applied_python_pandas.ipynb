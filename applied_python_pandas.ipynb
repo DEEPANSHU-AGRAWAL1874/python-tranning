{
 "cells": [
  {
   "cell_type": "code",
   "execution_count": null,
   "id": "08607674",
   "metadata": {},
   "outputs": [],
   "source": [
    "import pandas as pd\n"
   ]
  },
  {
   "cell_type": "code",
   "execution_count": null,
   "id": "c4be411c",
   "metadata": {},
   "outputs": [
    {
     "name": "stdout",
     "output_type": "stream",
     "text": [
      "Requirement already satisfied: pandas in c:\\users\\sai\\appdata\\local\\programs\\python\\python313\\lib\\site-packages (2.2.3)\n",
      "Requirement already satisfied: numpy>=1.26.0 in c:\\users\\sai\\appdata\\local\\programs\\python\\python313\\lib\\site-packages (from pandas) (2.2.1)\n",
      "Requirement already satisfied: python-dateutil>=2.8.2 in c:\\users\\sai\\appdata\\roaming\\python\\python313\\site-packages (from pandas) (2.9.0.post0)\n",
      "Requirement already satisfied: pytz>=2020.1 in c:\\users\\sai\\appdata\\local\\programs\\python\\python313\\lib\\site-packages (from pandas) (2025.1)\n",
      "Requirement already satisfied: tzdata>=2022.7 in c:\\users\\sai\\appdata\\local\\programs\\python\\python313\\lib\\site-packages (from pandas) (2024.2)\n",
      "Requirement already satisfied: six>=1.5 in c:\\users\\sai\\appdata\\roaming\\python\\python313\\site-packages (from python-dateutil>=2.8.2->pandas) (1.17.0)\n",
      "Note: you may need to restart the kernel to use updated packages.\n"
     ]
    },
    {
     "name": "stderr",
     "output_type": "stream",
     "text": [
      "\n",
      "[notice] A new release of pip is available: 24.3.1 -> 25.1.1\n",
      "[notice] To update, run: python.exe -m pip install --upgrade pip\n"
     ]
    }
   ],
   "source": [
    "! pip install pandas\n"
   ]
  },
  {
   "cell_type": "code",
   "execution_count": null,
   "id": "9f80a986",
   "metadata": {},
   "outputs": [],
   "source": [
    "import numpy as np\n"
   ]
  },
  {
   "cell_type": "code",
   "execution_count": null,
   "id": "b1798802",
   "metadata": {},
   "outputs": [
    {
     "name": "stdout",
     "output_type": "stream",
     "text": [
      "0    0.951040\n",
      "1    0.591569\n",
      "2    0.033014\n",
      "3    0.972942\n",
      "dtype: float64\n",
      "RangeIndex(start=0, stop=4, step=1)\n"
     ]
    }
   ],
   "source": [
    "series1 = pd.Series(np.random.random(4))\n",
    "print(series1)\n",
    "print(series1.index)\n"
   ]
  },
  {
   "cell_type": "markdown",
   "id": "4af377d2",
   "metadata": {},
   "source": [
    "# creating a series from dictionaries\n"
   ]
  },
  {
   "cell_type": "code",
   "execution_count": null,
   "id": "c9ea6bcf",
   "metadata": {},
   "outputs": [
    {
     "name": "stdout",
     "output_type": "stream",
     "text": [
      "m         1\n",
      "y      2024\n",
      "d    Sunday\n",
      "dtype: object\n",
      "y      2024\n",
      "m         1\n",
      "d    Sunday\n",
      "dtype: object\n"
     ]
    }
   ],
   "source": [
    "dict = {'m':1,'y':2024,'d': 'Sunday'}\n",
    "series = pd.Series(dict)\n",
    "print(series)\n",
    "s4 = pd.Series(dict,index = ['y','m','d'])# this will provide your own index\n",
    "print(s4)\n"
   ]
  },
  {
   "cell_type": "markdown",
   "id": "1f61a813",
   "metadata": {},
   "source": [
    "## label by index"
   ]
  },
  {
   "cell_type": "code",
   "execution_count": 13,
   "id": "f8aa80d8",
   "metadata": {},
   "outputs": [
    {
     "name": "stdout",
     "output_type": "stream",
     "text": [
      "a    0.869111\n",
      "b    0.385293\n",
      "c    0.130954\n",
      "d    0.723272\n",
      "dtype: float64\n",
      "Index(['a', 'b', 'c', 'd'], dtype='object')\n"
     ]
    }
   ],
   "source": [
    "series1 = pd.Series(np.random.random(4),index = ['a','b','c','d'])\n",
    "print(series1)\n",
    "print(series1.index)"
   ]
  },
  {
   "cell_type": "code",
   "execution_count": 14,
   "id": "d03d1a25",
   "metadata": {},
   "outputs": [
    {
     "name": "stdout",
     "output_type": "stream",
     "text": [
      "0.3852926935144556\n"
     ]
    }
   ],
   "source": [
    "print(series1['b'])"
   ]
  },
  {
   "cell_type": "code",
   "execution_count": 17,
   "id": "c17a87f8",
   "metadata": {},
   "outputs": [
    {
     "data": {
      "text/plain": [
       "a    8\n",
       "b    8\n",
       "c    8\n",
       "d    8\n",
       "dtype: int64"
      ]
     },
     "execution_count": 17,
     "metadata": {},
     "output_type": "execute_result"
    }
   ],
   "source": [
    "## creating series from scaler value \n",
    "scl = pd.Series(8,index = ['a','b','c','d'])\n",
    "scl"
   ]
  },
  {
   "cell_type": "code",
   "execution_count": 18,
   "id": "3a37f904",
   "metadata": {},
   "outputs": [
    {
     "name": "stdout",
     "output_type": "stream",
     "text": [
      "a    0.869111\n",
      "b    0.385293\n",
      "c    0.130954\n",
      "d    0.723272\n",
      "dtype: float64\n"
     ]
    }
   ],
   "source": [
    "print(series1)"
   ]
  },
  {
   "cell_type": "code",
   "execution_count": 19,
   "id": "c7d8e760",
   "metadata": {},
   "outputs": [
    {
     "name": "stdout",
     "output_type": "stream",
     "text": [
      "0.527157410622332 mean \n",
      "\n",
      "0.13095448659506537 min \n",
      "\n",
      "0.8691106785379883 max\n",
      "\n",
      "0.5542822386781372 median \n",
      "\n",
      "0.33291402282937993 standard deviarion \n",
      "\n",
      "2.108629642489328 sum \n",
      "\n"
     ]
    }
   ],
   "source": [
    "print(series1.mean(), 'mean \\n')\n",
    "print(series1.min(), 'min \\n')\n",
    "print(series1.max(), 'max\\n')\n",
    "print(series1.median(),'median \\n')\n",
    "print(series1.std(), 'standard deviarion \\n')\n",
    "print(series1.sum(), 'sum \\n')\n",
    "\n"
   ]
  },
  {
   "cell_type": "code",
   "execution_count": 21,
   "id": "cbf2b1f7",
   "metadata": {},
   "outputs": [
    {
     "name": "stdout",
     "output_type": "stream",
     "text": [
      "0     1\n",
      "1    10\n",
      "2     5\n",
      "3    17\n",
      "4     9\n",
      "dtype: int64\n",
      "42 sum: \n",
      "\n",
      "\n",
      " sorted values\n",
      "0     1\n",
      "2     5\n",
      "4     9\n",
      "1    10\n",
      "3    17\n",
      "dtype: int64\n",
      " \n",
      "sorted index:\n",
      "0     1\n",
      "1    10\n",
      "2     5\n",
      "3    17\n",
      "4     9\n",
      "dtype: int64\n"
     ]
    }
   ],
   "source": [
    "series2 = pd.Series([1,10,5,17,9])\n",
    "print(series2)\n",
    "print(series2.sum(),\"sum: \\n\")\n",
    "print('\\n sorted values')\n",
    "print(series2.sort_values())\n",
    "print(' \\nsorted index:')\n",
    "print(series2.sort_index())"
   ]
  },
  {
   "cell_type": "code",
   "execution_count": 26,
   "id": "c5d98127",
   "metadata": {},
   "outputs": [
    {
     "name": "stdout",
     "output_type": "stream",
     "text": [
      "original series:  a    1\n",
      "b    2\n",
      "c    3\n",
      "d    4\n",
      "dtype: int64\n",
      " \n",
      " Addition :  a    2\n",
      "b    4\n",
      "c    6\n",
      "d    8\n",
      "dtype: int64\n",
      "\n",
      " Addition with non-matched labels: a    NaN\n",
      "b    4.0\n",
      "c    6.0\n",
      "d    NaN\n",
      "dtype: float64\n",
      " \n",
      " multipliction:  a     1\n",
      "b     4\n",
      "c     9\n",
      "d    16\n",
      "dtype: int64\n",
      "\n",
      " substraction:  a    0\n",
      "b    0\n",
      "c    0\n",
      "d    0\n",
      "dtype: int64\n",
      "\n",
      " division:  a    0.5\n",
      "b    1.0\n",
      "c    1.5\n",
      "d    2.0\n",
      "dtype: float64\n",
      " \n",
      " Exponrntiation  a     1\n",
      "b     4\n",
      "c     9\n",
      "d    16\n",
      "dtype: int64\n"
     ]
    }
   ],
   "source": [
    "s1 = pd.Series([1,2,3,4], index = ['a','b','c','d'])\n",
    "print('original series: ', s1)\n",
    "print(' \\n Addition : ' , s1 +s1)\n",
    "print('\\n Addition with non-matched labels:', s1[1:] + s1 [:-1])\n",
    "print(' \\n multipliction: ', s1 *s1)\n",
    "print('\\n substraction: ', s1-s1)\n",
    "print('\\n division: ',s1 / 2)\n",
    "print(' \\n Exponrntiation ' ,(s1 **2))"
   ]
  },
  {
   "cell_type": "code",
   "execution_count": null,
   "id": "24601074",
   "metadata": {},
   "outputs": [],
   "source": []
  }
 ],
 "metadata": {
  "kernelspec": {
   "display_name": "Python 3",
   "language": "python",
   "name": "python3"
  },
  "language_info": {
   "codemirror_mode": {
    "name": "ipython",
    "version": 3
   },
   "file_extension": ".py",
   "mimetype": "text/x-python",
   "name": "python",
   "nbconvert_exporter": "python",
   "pygments_lexer": "ipython3",
   "version": "3.13.2"
  }
 },
 "nbformat": 4,
 "nbformat_minor": 5
}
