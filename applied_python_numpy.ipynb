{
 "cells": [
  {
   "cell_type": "code",
   "execution_count": 76,
   "id": "38da8fe5",
   "metadata": {},
   "outputs": [
    {
     "name": "stdout",
     "output_type": "stream",
     "text": [
      "Requirement already satisfied: numpy in c:\\users\\sai\\appdata\\local\\programs\\python\\python313\\lib\\site-packages (2.2.1)\n"
     ]
    },
    {
     "name": "stderr",
     "output_type": "stream",
     "text": [
      "\n",
      "[notice] A new release of pip is available: 24.3.1 -> 25.1.1\n",
      "[notice] To update, run: python.exe -m pip install --upgrade pip\n"
     ]
    }
   ],
   "source": [
    "! pip install numpy\n",
    "import numpy as np"
   ]
  },
  {
   "cell_type": "code",
   "execution_count": 77,
   "id": "2bc49fba",
   "metadata": {},
   "outputs": [
    {
     "name": "stdout",
     "output_type": "stream",
     "text": [
      "[2 3 4 5 6 5 5 7 5 4]\n",
      "<class 'numpy.ndarray'>\n"
     ]
    }
   ],
   "source": [
    "# creation of numpy array\n",
    "# the output is not seperated by comas \n",
    "x = np.array((2,3,4,5,6,5,5,7,5,4))\n",
    "print(x)\n",
    "print(type(x))"
   ]
  },
  {
   "cell_type": "code",
   "execution_count": 78,
   "id": "3308a710",
   "metadata": {},
   "outputs": [
    {
     "data": {
      "text/plain": [
       "array([0, 1, 2, 3])"
      ]
     },
     "execution_count": 78,
     "metadata": {},
     "output_type": "execute_result"
    }
   ],
   "source": [
    "#second method to create numpy array\n",
    "a = np.arange(4)\n",
    "a"
   ]
  },
  {
   "cell_type": "code",
   "execution_count": 79,
   "id": "5e47bfa2",
   "metadata": {},
   "outputs": [
    {
     "data": {
      "text/plain": [
       "array([-10,  -9,  -8,  -7,  -6,  -5])"
      ]
     },
     "execution_count": 79,
     "metadata": {},
     "output_type": "execute_result"
    }
   ],
   "source": [
    "a = np.arange(-10,-4,1)\n",
    "a"
   ]
  },
  {
   "cell_type": "code",
   "execution_count": 80,
   "id": "32b98a6d",
   "metadata": {},
   "outputs": [
    {
     "data": {
      "text/plain": [
       "array([], dtype=int64)"
      ]
     },
     "execution_count": 80,
     "metadata": {},
     "output_type": "execute_result"
    }
   ],
   "source": [
    "a = np.arange(-10,-4,-1)\n",
    "a"
   ]
  },
  {
   "cell_type": "code",
   "execution_count": 81,
   "id": "97b41b7f",
   "metadata": {},
   "outputs": [
    {
     "data": {
      "text/plain": [
       "array([10])"
      ]
     },
     "execution_count": 81,
     "metadata": {},
     "output_type": "execute_result"
    }
   ],
   "source": [
    "a = np.arange(10,-4,-20)\n",
    "a"
   ]
  },
  {
   "cell_type": "code",
   "execution_count": 82,
   "id": "ae774371",
   "metadata": {},
   "outputs": [
    {
     "data": {
      "text/plain": [
       "array([[0.43549047, 0.21335778, 0.45508927],\n",
       "       [0.07533267, 0.7403427 , 0.58778746],\n",
       "       [0.85154793, 0.74696649, 0.01014066],\n",
       "       [0.86509587, 0.27229499, 0.24198457]])"
      ]
     },
     "execution_count": 82,
     "metadata": {},
     "output_type": "execute_result"
    }
   ],
   "source": [
    "# create the random values  between 0,1\n",
    "a =np.random.random((4,3))\n",
    "a"
   ]
  },
  {
   "cell_type": "code",
   "execution_count": 83,
   "id": "f3a29038",
   "metadata": {},
   "outputs": [
    {
     "name": "stdout",
     "output_type": "stream",
     "text": [
      "[46 37  5 26 12  9]\n",
      "[[[5 3 9 9 4]\n",
      "  [5 9 2 9 3]\n",
      "  [9 8 9 4 1]\n",
      "  [0 8 1 0 5]]\n",
      "\n",
      " [[1 2 6 8 4]\n",
      "  [5 2 6 8 5]\n",
      "  [1 7 7 8 8]\n",
      "  [7 6 9 0 7]]\n",
      "\n",
      " [[8 8 9 4 5]\n",
      "  [4 4 7 8 1]\n",
      "  [3 8 2 1 3]\n",
      "  [8 8 6 1 8]]]\n",
      "[[9 3 1 9 0]\n",
      " [2 0 2 4 3]\n",
      " [0 5 8 9 2]\n",
      " [9 7 4 9 8]]\n"
     ]
    }
   ],
   "source": [
    "# random.randint generates  random integer  first value is limit and second value is size of array\n",
    "x1 = np.random.randint(50,size = 6)\n",
    "print(x1)\n",
    "x2 = np.random.randint(10,size = (3,4,5))\n",
    "print(x2)\n",
    "x3 = np.random.randint(10,size = (4,5))\n",
    "print(x3)"
   ]
  },
  {
   "cell_type": "code",
   "execution_count": 84,
   "id": "b33fea9e",
   "metadata": {},
   "outputs": [
    {
     "name": "stdout",
     "output_type": "stream",
     "text": [
      "42\n",
      "Dimention :  0\n",
      "[1 2 3 4 5]\n",
      "Dimention :  1\n",
      "[[1 2 3]\n",
      " [4 5 3]]\n",
      "Dimention :  2\n",
      "[[[41 15 47 15 15]\n",
      "  [41 39 43 34 32]\n",
      "  [ 4 17 32 25 32]\n",
      "  [14 33 38 25 44]]\n",
      "\n",
      " [[42 26 25 19 24]\n",
      "  [18  0  9 45 16]\n",
      "  [37 46  9 46 13]\n",
      "  [ 0 42 10 14 10]]\n",
      "\n",
      " [[15 42 32 24 17]\n",
      "  [36 12 29 28 40]\n",
      "  [40 39 42 23 18]\n",
      "  [ 9 45  7 40  9]]]\n",
      "Dimention :  3\n"
     ]
    }
   ],
   "source": [
    "## O- D array or scaler array which ha zero dimention\n",
    "# .ndim  gives the dimention \n",
    "arr0 = np.array(42)\n",
    "arr = np.array([1,2,3,4,5])\n",
    "arr2 = np.array([[1,2,3],[4,5,3]])\n",
    "print(arr0)\n",
    "print('Dimention : ',arr0.ndim)\n",
    "print(arr)\n",
    "print('Dimention : ',arr.ndim)\n",
    "print(arr2)\n",
    "print('Dimention : ',arr2.ndim)\n",
    "arr3 = np.random.randint(50,size = (3,4,5))\n",
    "print(arr3)\n",
    "print('Dimention : ',arr3.ndim)"
   ]
  },
  {
   "cell_type": "code",
   "execution_count": 85,
   "id": "29a487ad",
   "metadata": {},
   "outputs": [],
   "source": [
    "# accesss or reading of an array "
   ]
  },
  {
   "cell_type": "code",
   "execution_count": 86,
   "id": "9a387653",
   "metadata": {},
   "outputs": [
    {
     "name": "stdout",
     "output_type": "stream",
     "text": [
      "[1 2 3 4 5]\n",
      "[[ 0  1  2  3]\n",
      " [ 4  5  6  7]\n",
      " [ 8  9 10 11]]\n",
      "[[[ 0  1  2  3]\n",
      "  [ 4  5  6  7]\n",
      "  [ 8  9 10 11]]\n",
      "\n",
      " [[12 13 14 15]\n",
      "  [16 17 18 19]\n",
      "  [20 21 22 23]]]\n"
     ]
    }
   ],
   "source": [
    "# reshape method \n",
    "arr1 = np.arange(10)\n",
    "arr2 = np.arange(12).reshape(3,4)\n",
    "arr3 = np.arange(24).reshape(2,3,4)\n",
    "print(arr)\n",
    "print(arr2)\n",
    "print(arr3)"
   ]
  },
  {
   "cell_type": "code",
   "execution_count": 87,
   "id": "0220bd92",
   "metadata": {},
   "outputs": [
    {
     "name": "stdout",
     "output_type": "stream",
     "text": [
      "7\n",
      "7\n",
      "10\n"
     ]
    }
   ],
   "source": [
    "print(arr2[1][3])\n",
    "print(arr2[1,3])\n",
    "print(arr2[-1,-2])\n",
    "\n"
   ]
  },
  {
   "cell_type": "code",
   "execution_count": 88,
   "id": "4a9f474c",
   "metadata": {},
   "outputs": [
    {
     "data": {
      "text/plain": [
       "array([[[ 0,  1,  2,  3],\n",
       "        [ 4,  5,  6,  7],\n",
       "        [ 8,  9, 10, 11]],\n",
       "\n",
       "       [[12, 13, 14, 15],\n",
       "        [16, 17, 18, 19],\n",
       "        [20, 21, 22, 23]]])"
      ]
     },
     "execution_count": 88,
     "metadata": {},
     "output_type": "execute_result"
    }
   ],
   "source": [
    "arr3"
   ]
  },
  {
   "cell_type": "code",
   "execution_count": 89,
   "id": "dac1e56f",
   "metadata": {},
   "outputs": [
    {
     "data": {
      "text/plain": [
       "array([[[ 0,  1,  2],\n",
       "        [ 3,  4,  5],\n",
       "        [ 6,  7,  8],\n",
       "        [ 9, 10, 11]],\n",
       "\n",
       "       [[12, 13, 14],\n",
       "        [15, 16, 17],\n",
       "        [18, 19, 20],\n",
       "        [21, 22, 23]]])"
      ]
     },
     "execution_count": 89,
     "metadata": {},
     "output_type": "execute_result"
    }
   ],
   "source": [
    "arr1 = np.arange(10)\n",
    "arr2 = np.arange(12).reshape(3,4)\n",
    "arr3 = np.arange(24).reshape(2,4,3)\n",
    "arr3"
   ]
  },
  {
   "cell_type": "code",
   "execution_count": 90,
   "id": "6bb17787",
   "metadata": {},
   "outputs": [
    {
     "data": {
      "text/plain": [
       "array([[ 0,  1,  2,  3],\n",
       "       [ 4,  5,  6,  7],\n",
       "       [ 8,  9, 10, 11]])"
      ]
     },
     "execution_count": 90,
     "metadata": {},
     "output_type": "execute_result"
    }
   ],
   "source": [
    "arr2"
   ]
  },
  {
   "cell_type": "code",
   "execution_count": 91,
   "id": "1d1a6e4d",
   "metadata": {},
   "outputs": [
    {
     "name": "stdout",
     "output_type": "stream",
     "text": [
      "[0 1 2 3]\n"
     ]
    }
   ],
   "source": [
    "print(arr2[0,:])"
   ]
  },
  {
   "cell_type": "code",
   "execution_count": 92,
   "id": "9e4b591a",
   "metadata": {},
   "outputs": [
    {
     "name": "stdout",
     "output_type": "stream",
     "text": [
      "[0 4 8]\n"
     ]
    }
   ],
   "source": [
    "print(arr2[:,0])"
   ]
  },
  {
   "cell_type": "code",
   "execution_count": 93,
   "id": "3309ae71",
   "metadata": {},
   "outputs": [
    {
     "name": "stdout",
     "output_type": "stream",
     "text": [
      "[[ 5  6  7]\n",
      " [ 9 10 11]]\n"
     ]
    }
   ],
   "source": [
    "print(arr2[1:,1:])"
   ]
  },
  {
   "cell_type": "code",
   "execution_count": 94,
   "id": "cf816291",
   "metadata": {},
   "outputs": [
    {
     "name": "stdout",
     "output_type": "stream",
     "text": [
      "[[0 1]\n",
      " [8 9]]\n"
     ]
    }
   ],
   "source": [
    "print(arr2[::2,0:2:])#([row,column])"
   ]
  },
  {
   "cell_type": "code",
   "execution_count": 95,
   "id": "99696864",
   "metadata": {},
   "outputs": [
    {
     "name": "stdout",
     "output_type": "stream",
     "text": [
      "[[ 0  3]\n",
      " [ 8 11]]\n"
     ]
    }
   ],
   "source": [
    "print(arr2[::2,::3])"
   ]
  },
  {
   "cell_type": "code",
   "execution_count": 96,
   "id": "98cefb50",
   "metadata": {},
   "outputs": [
    {
     "name": "stdout",
     "output_type": "stream",
     "text": [
      "[[11  8]\n",
      " [ 3  0]]\n"
     ]
    }
   ],
   "source": [
    "print(arr2[-1: : -2, ::-3])"
   ]
  },
  {
   "cell_type": "code",
   "execution_count": 97,
   "id": "d9beb4ec",
   "metadata": {},
   "outputs": [
    {
     "name": "stdout",
     "output_type": "stream",
     "text": [
      "[[5 6 7]]\n"
     ]
    }
   ],
   "source": [
    "print(arr2[1::2,1::])"
   ]
  },
  {
   "cell_type": "code",
   "execution_count": 98,
   "id": "fcd5d4c2",
   "metadata": {},
   "outputs": [
    {
     "data": {
      "text/plain": [
       "array([[[ 0,  1,  2],\n",
       "        [ 3,  4,  5],\n",
       "        [ 6,  7,  8],\n",
       "        [ 9, 10, 11]],\n",
       "\n",
       "       [[12, 13, 14],\n",
       "        [15, 16, 17],\n",
       "        [18, 19, 20],\n",
       "        [21, 22, 23]]])"
      ]
     },
     "execution_count": 98,
     "metadata": {},
     "output_type": "execute_result"
    }
   ],
   "source": [
    "# slicing in 3d array\n",
    "arr3"
   ]
  },
  {
   "cell_type": "code",
   "execution_count": 99,
   "id": "2de0d73f",
   "metadata": {},
   "outputs": [
    {
     "name": "stdout",
     "output_type": "stream",
     "text": [
      "[[15 17]\n",
      " [21 23]]\n"
     ]
    }
   ],
   "source": [
    "print(arr3[1,1::2,::2])\n"
   ]
  },
  {
   "cell_type": "code",
   "execution_count": 100,
   "id": "8759e6b6",
   "metadata": {},
   "outputs": [
    {
     "name": "stdout",
     "output_type": "stream",
     "text": [
      "[[ 0  1  2]\n",
      " [ 3  4  5]\n",
      " [ 6  7  8]\n",
      " [ 9 10 11]]\n",
      "\n"
     ]
    }
   ],
   "source": [
    "print(arr3[0], end = '\\n\\n')"
   ]
  },
  {
   "cell_type": "code",
   "execution_count": 101,
   "id": "8fd94cdb",
   "metadata": {},
   "outputs": [
    {
     "name": "stdout",
     "output_type": "stream",
     "text": [
      "[0 1 2]\n"
     ]
    }
   ],
   "source": [
    "print(arr3[0,0])"
   ]
  },
  {
   "cell_type": "code",
   "execution_count": 102,
   "id": "63cc2ad7",
   "metadata": {},
   "outputs": [
    {
     "name": "stdout",
     "output_type": "stream",
     "text": [
      "[[12 13 14]\n",
      " [15 16 17]\n",
      " [18 19 20]]\n",
      "\n"
     ]
    }
   ],
   "source": [
    "print(arr3[1,:3], end= \"\\n\\n\")"
   ]
  },
  {
   "cell_type": "code",
   "execution_count": 103,
   "id": "31b7e6e5",
   "metadata": {},
   "outputs": [
    {
     "name": "stdout",
     "output_type": "stream",
     "text": [
      "[[0 2]\n",
      " [3 5]]\n"
     ]
    }
   ],
   "source": [
    "print(arr3[0, :2,::2])"
   ]
  },
  {
   "cell_type": "code",
   "execution_count": 104,
   "id": "b18a11c4",
   "metadata": {},
   "outputs": [
    {
     "name": "stdout",
     "output_type": "stream",
     "text": [
      "int64\n",
      "float64\n"
     ]
    }
   ],
   "source": [
    "a1 = np.array([1,2,3,4])\n",
    "a2 = np.array([1.1,2.2,3.3,4.4])\n",
    "print(a1.dtype)\n",
    "print(a2.dtype)"
   ]
  },
  {
   "cell_type": "code",
   "execution_count": 105,
   "id": "c0e82a2b",
   "metadata": {},
   "outputs": [
    {
     "name": "stdout",
     "output_type": "stream",
     "text": [
      "8\n",
      "8\n"
     ]
    }
   ],
   "source": [
    "print(a1.itemsize)\n",
    "print(a2.itemsize)"
   ]
  },
  {
   "cell_type": "code",
   "execution_count": 106,
   "id": "aeb9ed05",
   "metadata": {},
   "outputs": [
    {
     "name": "stdout",
     "output_type": "stream",
     "text": [
      "32\n",
      "32\n"
     ]
    }
   ],
   "source": [
    "print(a1.nbytes)\n",
    "print(a2.nbytes)"
   ]
  },
  {
   "cell_type": "code",
   "execution_count": 107,
   "id": "3c3d75aa",
   "metadata": {},
   "outputs": [
    {
     "name": "stdout",
     "output_type": "stream",
     "text": [
      "1\n",
      "2\n"
     ]
    }
   ],
   "source": [
    "a1 = np.array([1,2,3,4])\n",
    "a2 = np.array([[1,2,3,4],[5,6,7,8]])\n",
    "#ndim shows dimention\n",
    "print(a1.ndim)\n",
    "print(a2.ndim)"
   ]
  },
  {
   "cell_type": "code",
   "execution_count": 108,
   "id": "d7ca1da3",
   "metadata": {},
   "outputs": [
    {
     "name": "stdout",
     "output_type": "stream",
     "text": [
      "(4,)\n",
      "(2, 4)\n"
     ]
    }
   ],
   "source": [
    "#shape\n",
    "print(a1.shape)\n",
    "print(a2.shape)"
   ]
  },
  {
   "cell_type": "code",
   "execution_count": 109,
   "id": "f0aef574",
   "metadata": {},
   "outputs": [
    {
     "name": "stdout",
     "output_type": "stream",
     "text": [
      "4\n",
      "8\n"
     ]
    }
   ],
   "source": [
    "#size \n",
    "print(a1.size)\n",
    "print(a2.size)\n"
   ]
  },
  {
   "cell_type": "code",
   "execution_count": 110,
   "id": "d114bd21",
   "metadata": {},
   "outputs": [
    {
     "name": "stdout",
     "output_type": "stream",
     "text": [
      "[0. 0. 0. 0. 0. 0. 0. 0. 0. 0.]\n",
      "[[0. 0. 0. 0. 0. 0.]\n",
      " [0. 0. 0. 0. 0. 0.]\n",
      " [0. 0. 0. 0. 0. 0.]]\n",
      "[[[0. 0.]\n",
      "  [0. 0.]\n",
      "  [0. 0.]]\n",
      "\n",
      " [[0. 0.]\n",
      "  [0. 0.]\n",
      "  [0. 0.]]]\n"
     ]
    }
   ],
   "source": [
    "# zeros create array of 0s\n",
    "print(np.zeros(10))\n",
    "print(np.zeros((3,6)))\n",
    "print(np.zeros((2,3,2)))"
   ]
  },
  {
   "cell_type": "code",
   "execution_count": 111,
   "id": "1d7ec434",
   "metadata": {},
   "outputs": [
    {
     "name": "stdout",
     "output_type": "stream",
     "text": [
      "[1. 1. 1. 1. 1. 1. 1. 1. 1. 1.]\n",
      "[[1. 1. 1. 1. 1. 1.]\n",
      " [1. 1. 1. 1. 1. 1.]\n",
      " [1. 1. 1. 1. 1. 1.]]\n",
      "[[[1. 1.]\n",
      "  [1. 1.]\n",
      "  [1. 1.]]\n",
      "\n",
      " [[1. 1.]\n",
      "  [1. 1.]\n",
      "  [1. 1.]]]\n"
     ]
    }
   ],
   "source": [
    "print(np.ones(10))\n",
    "print(np.ones((3,6)))\n",
    "print(np.ones((2,3,2)))"
   ]
  },
  {
   "cell_type": "code",
   "execution_count": 112,
   "id": "d5079c88",
   "metadata": {},
   "outputs": [
    {
     "data": {
      "text/plain": [
       "array([[1., 0., 0., 0.],\n",
       "       [0., 1., 0., 0.],\n",
       "       [0., 0., 1., 0.],\n",
       "       [0., 0., 0., 1.]])"
      ]
     },
     "execution_count": 112,
     "metadata": {},
     "output_type": "execute_result"
    }
   ],
   "source": [
    "# identity function\n",
    "np.identity(4) # default value as float"
   ]
  },
  {
   "cell_type": "code",
   "execution_count": 113,
   "id": "4cf7fd4b",
   "metadata": {},
   "outputs": [
    {
     "name": "stdout",
     "output_type": "stream",
     "text": [
      "[1 2 3 4] [5 6 7 8]\n"
     ]
    }
   ],
   "source": [
    "a1= np.array([1,2,3,4])\n",
    "b1 = np.array([5,6,7,8])\n",
    "print(a1,b1)"
   ]
  },
  {
   "cell_type": "code",
   "execution_count": 114,
   "id": "6117fcf1",
   "metadata": {},
   "outputs": [
    {
     "name": "stdout",
     "output_type": "stream",
     "text": [
      "[6 7 8 9]\n",
      "[-4 -3 -2 -1]\n",
      "[2 4 6 8]\n",
      "[0.5 1.  1.5 2. ]\n",
      "[0 1 1 2]\n",
      "[-1 -2 -3 -4]\n",
      "[ 1  4  9 16]\n",
      "[1 0 1 0]\n"
     ]
    }
   ],
   "source": [
    "print(a1+5)\n",
    "print(a1-5)\n",
    "print(a1*2)\n",
    "print(a1/2)\n",
    "print(a1//2)\n",
    "print(-a1)\n",
    "print(a1**2)\n",
    "print(a1%2)"
   ]
  },
  {
   "cell_type": "code",
   "execution_count": 115,
   "id": "508ff7e5",
   "metadata": {},
   "outputs": [
    {
     "name": "stdout",
     "output_type": "stream",
     "text": [
      "[ 6  8 10 12]\n",
      "[-4 -4 -4 -4]\n",
      "[ 5 12 21 32]\n",
      "[0.2        0.33333333 0.42857143 0.5       ]\n",
      "[0 0 0 0]\n",
      "[    1    64  2187 65536]\n",
      "[1 2 3 4]\n"
     ]
    }
   ],
   "source": [
    "print(a1+b1)\n",
    "print(a1-b1)\n",
    "print(a1 * b1)\n",
    "print(a1  /b1)\n",
    "print(a1  // b1)\n",
    "print(a1 ** b1)\n",
    "print(a1 %b1)\n"
   ]
  },
  {
   "cell_type": "code",
   "execution_count": 116,
   "id": "a34a3131",
   "metadata": {},
   "outputs": [
    {
     "data": {
      "text/plain": [
       "np.int64(208)"
      ]
     },
     "execution_count": 116,
     "metadata": {},
     "output_type": "execute_result"
    }
   ],
   "source": [
    "arr1 = np.array([9,10,20])\n",
    "arr2 = np.array([2,5,7])\n",
    "np.dot(arr1,arr2)"
   ]
  },
  {
   "cell_type": "code",
   "execution_count": 119,
   "id": "f88eeaea",
   "metadata": {},
   "outputs": [
    {
     "data": {
      "text/plain": [
       "array([[ 0,  1,  2,  3,  4],\n",
       "       [ 5,  6,  7,  8,  9],\n",
       "       [10, 11, 12, 13, 14],\n",
       "       [15, 16, 17, 18, 19],\n",
       "       [20, 21, 22, 23, 24],\n",
       "       [25, 26, 27, 28, 29],\n",
       "       [30, 31, 32, 33, 34],\n",
       "       [35, 36, 37, 38, 39],\n",
       "       [40, 41, 42, 43, 44],\n",
       "       [45, 46, 47, 48, 49]])"
      ]
     },
     "execution_count": 119,
     "metadata": {},
     "output_type": "execute_result"
    }
   ],
   "source": [
    "x = np.arange(50).reshape(10,5)\n",
    "x"
   ]
  },
  {
   "cell_type": "code",
   "execution_count": null,
   "id": "5dba0fad",
   "metadata": {},
   "outputs": [
    {
     "name": "stdout",
     "output_type": "stream",
     "text": [
      "[22.5 23.5 24.5 25.5 26.5] [ 2.  7. 12. 17. 22. 27. 32. 37. 42. 47.]\n"
     ]
    }
   ],
   "source": [
    "np.mean(x)\n",
    "y = np.mean(x,axis = 0) # mean of specific column\n",
    "z = np.mean(x,axis = 1) # mean of specific row\n",
    "print(y,z)"
   ]
  },
  {
   "cell_type": "code",
   "execution_count": 128,
   "id": "592a2832",
   "metadata": {},
   "outputs": [
    {
     "name": "stdout",
     "output_type": "stream",
     "text": [
      "24.5\n",
      "[22.5 23.5 24.5 25.5 26.5]\n",
      "[ 2.  7. 12. 17. 22. 27. 32. 37. 42. 47.]\n"
     ]
    }
   ],
   "source": [
    "print(np.average(x))\n",
    "print(np.average(x,axis = 0))\n",
    "print(np.average(x,axis = 1))"
   ]
  },
  {
   "cell_type": "code",
   "execution_count": 129,
   "id": "f4211b1b",
   "metadata": {},
   "outputs": [
    {
     "data": {
      "text/plain": [
       "np.int64(0)"
      ]
     },
     "execution_count": 129,
     "metadata": {},
     "output_type": "execute_result"
    }
   ],
   "source": [
    "np.min(x)"
   ]
  },
  {
   "cell_type": "code",
   "execution_count": 131,
   "id": "1f976d0b",
   "metadata": {},
   "outputs": [
    {
     "data": {
      "text/plain": [
       "array([0, 1, 2, 3, 4])"
      ]
     },
     "execution_count": 131,
     "metadata": {},
     "output_type": "execute_result"
    }
   ],
   "source": [
    "np.min(x, axis = 0)"
   ]
  },
  {
   "cell_type": "code",
   "execution_count": 132,
   "id": "45017471",
   "metadata": {},
   "outputs": [
    {
     "data": {
      "text/plain": [
       "array([ 0,  5, 10, 15, 20, 25, 30, 35, 40, 45])"
      ]
     },
     "execution_count": 132,
     "metadata": {},
     "output_type": "execute_result"
    }
   ],
   "source": [
    "np.min(x,axis = 1)"
   ]
  },
  {
   "cell_type": "code",
   "execution_count": 130,
   "id": "7a8d04b2",
   "metadata": {},
   "outputs": [
    {
     "data": {
      "text/plain": [
       "np.int64(49)"
      ]
     },
     "execution_count": 130,
     "metadata": {},
     "output_type": "execute_result"
    }
   ],
   "source": [
    "np.max(x)"
   ]
  },
  {
   "cell_type": "code",
   "execution_count": 133,
   "id": "7645814e",
   "metadata": {},
   "outputs": [
    {
     "data": {
      "text/plain": [
       "array([45, 46, 47, 48, 49])"
      ]
     },
     "execution_count": 133,
     "metadata": {},
     "output_type": "execute_result"
    }
   ],
   "source": [
    "np.max(x,axis=0)"
   ]
  },
  {
   "cell_type": "code",
   "execution_count": 134,
   "id": "b593e979",
   "metadata": {},
   "outputs": [
    {
     "data": {
      "text/plain": [
       "array([ 4,  9, 14, 19, 24, 29, 34, 39, 44, 49])"
      ]
     },
     "execution_count": 134,
     "metadata": {},
     "output_type": "execute_result"
    }
   ],
   "source": [
    "np.max(x,axis= 1)"
   ]
  },
  {
   "cell_type": "code",
   "execution_count": 136,
   "id": "b309e3da",
   "metadata": {},
   "outputs": [
    {
     "data": {
      "text/plain": [
       "np.float64(208.25)"
      ]
     },
     "execution_count": 136,
     "metadata": {},
     "output_type": "execute_result"
    }
   ],
   "source": [
    "np.var(x) # variance  "
   ]
  },
  {
   "cell_type": "code",
   "execution_count": 137,
   "id": "41b0a3b2",
   "metadata": {},
   "outputs": [
    {
     "data": {
      "text/plain": [
       "array([206.25, 206.25, 206.25, 206.25, 206.25])"
      ]
     },
     "execution_count": 137,
     "metadata": {},
     "output_type": "execute_result"
    }
   ],
   "source": [
    "np.var(x,axis= 0)"
   ]
  },
  {
   "cell_type": "code",
   "execution_count": 138,
   "id": "bebe9701",
   "metadata": {},
   "outputs": [
    {
     "data": {
      "text/plain": [
       "array([2., 2., 2., 2., 2., 2., 2., 2., 2., 2.])"
      ]
     },
     "execution_count": 138,
     "metadata": {},
     "output_type": "execute_result"
    }
   ],
   "source": [
    "np.var(x,axis= 1)"
   ]
  },
  {
   "cell_type": "code",
   "execution_count": 139,
   "id": "1d778c1c",
   "metadata": {},
   "outputs": [
    {
     "data": {
      "text/plain": [
       "np.int64(1225)"
      ]
     },
     "execution_count": 139,
     "metadata": {},
     "output_type": "execute_result"
    }
   ],
   "source": [
    "np.sum(x)"
   ]
  },
  {
   "cell_type": "code",
   "execution_count": 140,
   "id": "cf0a20b7",
   "metadata": {},
   "outputs": [
    {
     "data": {
      "text/plain": [
       "array([225, 235, 245, 255, 265])"
      ]
     },
     "execution_count": 140,
     "metadata": {},
     "output_type": "execute_result"
    }
   ],
   "source": [
    "np.sum(x,axis = 0)"
   ]
  },
  {
   "cell_type": "code",
   "execution_count": 141,
   "id": "70448e5c",
   "metadata": {},
   "outputs": [
    {
     "data": {
      "text/plain": [
       "array([ 10,  35,  60,  85, 110, 135, 160, 185, 210, 235])"
      ]
     },
     "execution_count": 141,
     "metadata": {},
     "output_type": "execute_result"
    }
   ],
   "source": [
    "np.sum(x,axis = 1)"
   ]
  },
  {
   "cell_type": "code",
   "execution_count": 143,
   "id": "5b85588d",
   "metadata": {},
   "outputs": [
    {
     "name": "stdout",
     "output_type": "stream",
     "text": [
      "25th percentile  12.25\n",
      "50th percentile  24.5\n",
      "75th percentile  36.75\n",
      "100th percentile  49.0\n"
     ]
    }
   ],
   "source": [
    "p25 = np.percentile(x,25)\n",
    "p50 = np.percentile(x,50)\n",
    "p75 = np.percentile(x,75)\n",
    "p100 = np.percentile(x,100)\n",
    "print('25th percentile ' , p25)\n",
    "print('50th percentile ' , p50)\n",
    "print('75th percentile ' , p75)\n",
    "print('100th percentile ' , p100)"
   ]
  },
  {
   "cell_type": "code",
   "execution_count": 145,
   "id": "218349d5",
   "metadata": {},
   "outputs": [
    {
     "name": "stdout",
     "output_type": "stream",
     "text": [
      "2\n",
      "4\n",
      "5\n",
      "7\n",
      "8\n",
      "1\n",
      "5\n",
      "6\n"
     ]
    }
   ],
   "source": [
    "a1 = np.array([2,4,5,7,8,1,5,6])\n",
    "for i in a1:\n",
    "    print(i)"
   ]
  },
  {
   "cell_type": "code",
   "execution_count": 147,
   "id": "6eb2f414",
   "metadata": {},
   "outputs": [
    {
     "name": "stdout",
     "output_type": "stream",
     "text": [
      "[0 1 2 3 4]\n",
      "[5 6 7 8 9]\n",
      "[10 11 12 13 14]\n",
      "[15 16 17 18 19]\n"
     ]
    }
   ],
   "source": [
    "a2 = np.arange(20).reshape(4,5)\n",
    "for i in a2:\n",
    "    print(i,end = '\\n')"
   ]
  },
  {
   "cell_type": "code",
   "execution_count": 149,
   "id": "b621b3f0",
   "metadata": {},
   "outputs": [
    {
     "name": "stdout",
     "output_type": "stream",
     "text": [
      "[[0 1]\n",
      " [2 3]]\n",
      "\n",
      "[[4 5]\n",
      " [6 7]]\n",
      "\n",
      "[[ 8  9]\n",
      " [10 11]]\n",
      "\n",
      "[[12 13]\n",
      " [14 15]]\n",
      "\n",
      "[[16 17]\n",
      " [18 19]]\n",
      "\n"
     ]
    }
   ],
   "source": [
    "a3 = np.arange(20).reshape(5,2,2)\n",
    "for i in a3:\n",
    "    print(i,end = '\\n\\n')"
   ]
  },
  {
   "cell_type": "markdown",
   "id": "6f83f10e",
   "metadata": {},
   "source": [
    "## stacking "
   ]
  },
  {
   "cell_type": "code",
   "execution_count": 153,
   "id": "6f218d8e",
   "metadata": {},
   "outputs": [
    {
     "name": "stdout",
     "output_type": "stream",
     "text": [
      "[[ 0  1  2  3]\n",
      " [ 4  5  6  7]\n",
      " [ 8  9 10 11]]\n",
      "[[12 13 14 15]\n",
      " [16 17 18 19]\n",
      " [20 21 22 23]]\n"
     ]
    }
   ],
   "source": [
    "s1 = np.arange(12).reshape(3,4)\n",
    "s2 = np.arange(12,24).reshape(3,4)\n",
    "print(s1) \n",
    "print(s2)"
   ]
  },
  {
   "cell_type": "code",
   "execution_count": 155,
   "id": "261b0737",
   "metadata": {},
   "outputs": [
    {
     "data": {
      "text/plain": [
       "array([[ 0,  1,  2,  3, 12, 13, 14, 15],\n",
       "       [ 4,  5,  6,  7, 16, 17, 18, 19],\n",
       "       [ 8,  9, 10, 11, 20, 21, 22, 23]])"
      ]
     },
     "execution_count": 155,
     "metadata": {},
     "output_type": "execute_result"
    }
   ],
   "source": [
    "s3 = np.hstack((s1,s2))\n",
    "## horizantal join\n",
    "s3"
   ]
  },
  {
   "cell_type": "code",
   "execution_count": 159,
   "id": "5464b7d8",
   "metadata": {},
   "outputs": [
    {
     "data": {
      "text/plain": [
       "array([[ 0,  1,  2,  3],\n",
       "       [ 4,  5,  6,  7],\n",
       "       [ 8,  9, 10, 11],\n",
       "       [12, 13, 14, 15],\n",
       "       [16, 17, 18, 19],\n",
       "       [20, 21, 22, 23]])"
      ]
     },
     "execution_count": 159,
     "metadata": {},
     "output_type": "execute_result"
    }
   ],
   "source": [
    "s4 = np.vstack((s1,s2)) # vertical join\n",
    "s4"
   ]
  },
  {
   "cell_type": "code",
   "execution_count": 160,
   "id": "f37d02ea",
   "metadata": {},
   "outputs": [],
   "source": [
    "## spliting "
   ]
  },
  {
   "cell_type": "code",
   "execution_count": 166,
   "id": "58cf009e",
   "metadata": {},
   "outputs": [
    {
     "data": {
      "text/plain": [
       "[array([[0, 1],\n",
       "        [4, 5],\n",
       "        [8, 9]]),\n",
       " array([[ 2,  3],\n",
       "        [ 6,  7],\n",
       "        [10, 11]]),\n",
       " array([[12, 13],\n",
       "        [16, 17],\n",
       "        [20, 21]]),\n",
       " array([[14, 15],\n",
       "        [18, 19],\n",
       "        [22, 23]])]"
      ]
     },
     "execution_count": 166,
     "metadata": {},
     "output_type": "execute_result"
    }
   ],
   "source": [
    "# horizantal  hsplit me vertical cut perform hoga\n",
    "s5 = np.hsplit(s3,2)\n",
    "s5\n",
    "s6 = np.hsplit(s3,4)\n",
    "s6"
   ]
  },
  {
   "cell_type": "code",
   "execution_count": 170,
   "id": "923f8d0a",
   "metadata": {},
   "outputs": [
    {
     "name": "stdout",
     "output_type": "stream",
     "text": [
      "[array([[ 0,  1,  2,  3],\n",
      "       [ 4,  5,  6,  7],\n",
      "       [ 8,  9, 10, 11]]), array([[12, 13, 14, 15],\n",
      "       [16, 17, 18, 19],\n",
      "       [20, 21, 22, 23]])]\n"
     ]
    },
    {
     "data": {
      "text/plain": [
       "[array([[0, 1, 2, 3],\n",
       "        [4, 5, 6, 7]]),\n",
       " array([[ 8,  9, 10, 11],\n",
       "        [12, 13, 14, 15]]),\n",
       " array([[16, 17, 18, 19],\n",
       "        [20, 21, 22, 23]])]"
      ]
     },
     "execution_count": 170,
     "metadata": {},
     "output_type": "execute_result"
    }
   ],
   "source": [
    "# vertical  vsplit me horizantal cut perform hoga\n",
    "s7 = np.vsplit(s4,2)\n",
    "print(s7)\n",
    "s8  = np.vsplit(s4,3)\n",
    "s8"
   ]
  },
  {
   "cell_type": "code",
   "execution_count": 171,
   "id": "7c64a2ed",
   "metadata": {},
   "outputs": [],
   "source": [
    "# if there is unequal division in the argument this will show error "
   ]
  },
  {
   "cell_type": "code",
   "execution_count": null,
   "id": "18411d7a",
   "metadata": {},
   "outputs": [],
   "source": []
  }
 ],
 "metadata": {
  "kernelspec": {
   "display_name": "Python 3",
   "language": "python",
   "name": "python3"
  },
  "language_info": {
   "codemirror_mode": {
    "name": "ipython",
    "version": 3
   },
   "file_extension": ".py",
   "mimetype": "text/x-python",
   "name": "python",
   "nbconvert_exporter": "python",
   "pygments_lexer": "ipython3",
   "version": "3.13.2"
  }
 },
 "nbformat": 4,
 "nbformat_minor": 5
}
