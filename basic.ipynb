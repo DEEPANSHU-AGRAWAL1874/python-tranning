{
 "cells": [
  {
   "cell_type": "code",
   "execution_count": 2,
   "id": "48dc9ca9",
   "metadata": {},
   "outputs": [
    {
     "name": "stdout",
     "output_type": "stream",
     "text": [
      "hello world\n"
     ]
    }
   ],
   "source": [
    "print('hello world')"
   ]
  },
  {
   "cell_type": "code",
   "execution_count": 3,
   "id": "b93b127d",
   "metadata": {},
   "outputs": [
    {
     "name": "stdout",
     "output_type": "stream",
     "text": [
      "140723995490872 140723995490936 140723995490872\n"
     ]
    }
   ],
   "source": [
    "x = 5\n",
    "y = 7 \n",
    "z = 5\n",
    "print(id(x),id(y),id(z))"
   ]
  },
  {
   "cell_type": "code",
   "execution_count": 4,
   "id": "bc251157",
   "metadata": {},
   "outputs": [
    {
     "name": "stdout",
     "output_type": "stream",
     "text": [
      "hello\n",
      "21\n",
      "5.6\n"
     ]
    }
   ],
   "source": [
    "x = input(\"enter the name \")\n",
    "y = int (input('enter the age '))\n",
    "z = float (input('enter height '))\n",
    "print(x)\n",
    "print(y)\n",
    "print(z)"
   ]
  },
  {
   "cell_type": "code",
   "execution_count": 7,
   "id": "16c51b01",
   "metadata": {},
   "outputs": [
    {
     "name": "stdout",
     "output_type": "stream",
     "text": [
      "hello \n",
      "23\n",
      "23\n",
      "<class 'int'>\n"
     ]
    }
   ],
   "source": [
    "x = input(\"enter the name \")\n",
    "y = eval (input('enter the age ')) #eval conver the type of variable acording to input \n",
    "z = eval (input('enter height '))\n",
    "print(x)\n",
    "print(y)\n",
    "print(z)\n",
    "print(type(z))"
   ]
  },
  {
   "cell_type": "code",
   "execution_count": 11,
   "id": "5c9a9eaf",
   "metadata": {},
   "outputs": [
    {
     "name": "stdout",
     "output_type": "stream",
     "text": [
      "perimeter of rectangle 80\n",
      "area of rectangle :  400\n"
     ]
    }
   ],
   "source": [
    "# Q. write a program which take length and width of a rectangle and calculate their area \n",
    "length = int(input('enter the length of rect '))\n",
    "width = int(input('enter the width of rect '))\n",
    "area  = length *width\n",
    "p = 2 *(length + width)\n",
    "print(\"perimeter of rectangle\" , p)\n",
    "print(\"area of rectangle : \" , area)"
   ]
  },
  {
   "cell_type": "code",
   "execution_count": null,
   "id": "9348e9a9",
   "metadata": {},
   "outputs": [
    {
     "name": "stdout",
     "output_type": "stream",
     "text": [
      "person cant vote \n"
     ]
    }
   ],
   "source": [
    "# Q. wap which will take age as input from user and print if user can vote or not \n",
    "## vote\n",
    "age = int(input('enter the age'))\n",
    "if age >= 18:\n",
    "    print('person can vote ')\n",
    "else :\n",
    "    print(\"person cant vote \")\n",
    "# or cant vote\n"
   ]
  },
  {
   "cell_type": "code",
   "execution_count": 20,
   "id": "daa11a5a",
   "metadata": {},
   "outputs": [
    {
     "name": "stdout",
     "output_type": "stream",
     "text": [
      "adult\n"
     ]
    }
   ],
   "source": [
    "#wap age input age b/t 0-12 child 13-19 adult 20 -45 adult 45 + senoir \n",
    "age = int (input ('age'))\n",
    "if 0 < age <12 :\n",
    "    print('child')\n",
    "elif  age <= 19:\n",
    "    print('teenager')\n",
    "elif age <= 45:\n",
    "    print('adult')\n",
    "elif age > 45:\n",
    "    print('senior')\n",
    "else :\n",
    "    print('invalid input')\n",
    "    "
   ]
  },
  {
   "cell_type": "code",
   "execution_count": null,
   "id": "27499ccc",
   "metadata": {},
   "outputs": [
    {
     "name": "stdout",
     "output_type": "stream",
     "text": [
      "fizz\n"
     ]
    }
   ],
   "source": [
    "# wap which take a no.as input if the no. is duivisible by 3 it print fizz \n",
    "#if divisible by  5 buzz\n",
    "# if 3 and 5 divisible  print fizz buzz \n",
    "# not divisible \n",
    "n  = int(input('number'))\n",
    "if  n%3==0 and n%5 == 0:\n",
    "    print('fizzbuzz')\n",
    "elif n % 3 == 0 :\n",
    "    print('fizz')\n",
    "elif n %5 == 0:\n",
    "    print('buzz')\n",
    "else:\n",
    "    print('not divisible ')"
   ]
  },
  {
   "cell_type": "code",
   "execution_count": 34,
   "id": "e7d467a1",
   "metadata": {},
   "outputs": [
    {
     "name": "stdout",
     "output_type": "stream",
     "text": [
      "0 3 21\n"
     ]
    }
   ],
   "source": [
    "# wap  which will take 3 number as a input from user and arrange them in assending order \n",
    "a = int (input() )\n",
    "b = int (input() )\n",
    "c = int (input() )\n",
    "if a>b>c: \n",
    "    print(c,b,a)\n",
    "elif(a>c>b):\n",
    "    print(b,c,a)\n",
    "elif(b>a>c):\n",
    "    print(c,a,b)\n",
    "elif(b>c>a):\n",
    "    print(a,c,b)\n",
    "elif(c>b>a):\n",
    "    print(a,b,c)\n",
    "elif (c>a>b):\n",
    "    print(b,a,c)\n",
    "    \n"
   ]
  },
  {
   "cell_type": "code",
   "execution_count": 12,
   "id": "379cb992",
   "metadata": {},
   "outputs": [
    {
     "name": "stdout",
     "output_type": "stream",
     "text": [
      "12.0\n"
     ]
    }
   ],
   "source": [
    "#Q wap to input electricity unit charges and calculate total electricty bill \n",
    "\n",
    "n = int(input('enter the no. of unit : '))\n",
    "if n <= 50:\n",
    "    result =( n *0.5)\n",
    "elif n<=150:\n",
    "    result = (n*50 + {(n-50)*0.75})\n",
    "elif n <= 250:\n",
    "    result = ((50 * 0.5) + 100* 0.75 + (n-150)*1.20) \n",
    "elif n<= 450:\n",
    "    result = ((50 * 0.5) + 100* 0.75 + 150*1.20 + (n-250 * 1.50))\n",
    "#print(result)\n",
    "final_bill = result + (result *20/100)\n",
    "print(final_bill)"
   ]
  },
  {
   "cell_type": "code",
   "execution_count": 7,
   "id": "6aa04182",
   "metadata": {},
   "outputs": [
    {
     "name": "stdout",
     "output_type": "stream",
     "text": [
      "Autumn\n"
     ]
    }
   ],
   "source": [
    "# determine te season  based on month \n",
    "n = int (input('enter the month'))\n",
    "if 3<= n <= 5:\n",
    "    print(\"spring\")\n",
    "elif 6<= n<= 8:\n",
    "    print(\"summer\")\n",
    "elif 9<= n <= 11:\n",
    "    print('Autumn')\n",
    "elif n == 1 or n ==2 or n ==12:\n",
    "    print('winter')\n",
    "else:\n",
    "    print(\"invalid input\") "
   ]
  },
  {
   "cell_type": "code",
   "execution_count": 15,
   "id": "628f1fe9",
   "metadata": {},
   "outputs": [
    {
     "name": "stdout",
     "output_type": "stream",
     "text": [
      "510\n"
     ]
    }
   ],
   "source": [
    "# # calculate the bill of km \n",
    "n = int(input(\"enter the no. of KM\"))\n",
    "if n <= 10:\n",
    "    bill= 10 *11\n",
    "elif n <= 100:\n",
    "    bill = (10*11) + (n- 10) *10 \n",
    "elif n >100:\n",
    "    bill = (10*11) + (90 *10) + {(n-100) * 9}\n",
    "print(bill)\n",
    "    "
   ]
  },
  {
   "cell_type": "markdown",
   "id": "77bd8b6a",
   "metadata": {},
   "source": [
    "## while loop"
   ]
  },
  {
   "cell_type": "code",
   "execution_count": 17,
   "id": "00663182",
   "metadata": {},
   "outputs": [
    {
     "name": "stdout",
     "output_type": "stream",
     "text": [
      "1 3 5 7 9 11 13 15 17 19 "
     ]
    }
   ],
   "source": [
    "n  = 1 \n",
    "while n<=19 :\n",
    "    print(n,end = ' ')\n",
    "    n+=2 "
   ]
  },
  {
   "cell_type": "code",
   "execution_count": 26,
   "id": "379c4f2c",
   "metadata": {},
   "outputs": [
    {
     "name": "stdout",
     "output_type": "stream",
     "text": [
      "110 100\n"
     ]
    }
   ],
   "source": [
    "# wap which will calculate sum of all the odd and even numbers between 1 - 20\n",
    "n = 1 \n",
    "e = 0 \n",
    "o = 0\n",
    "while n <=20:\n",
    "    if n%2 == 0:\n",
    "        e+=n\n",
    "    elif n%2 != 0 :\n",
    "        o+=n\n",
    "    n+=1 \n",
    "print(e,o)\n",
    "    \n"
   ]
  },
  {
   "cell_type": "code",
   "execution_count": null,
   "id": "5f18b98d",
   "metadata": {},
   "outputs": [],
   "source": [
    "#wap which will take no. from user and print all factors of that number :\n",
    "i = int(input(\"enter the number \"))\n",
    "n = 1\n",
    "while n <= i:\n",
    "    if i%n ==0:\n",
    "        print(n)\n",
    "    i+=1"
   ]
  },
  {
   "cell_type": "code",
   "execution_count": 2,
   "id": "096508cd",
   "metadata": {},
   "outputs": [
    {
     "name": "stdout",
     "output_type": "stream",
     "text": [
      "1 2 3 4 6 12 "
     ]
    }
   ],
   "source": [
    "i = int(input('enter the number '))\n",
    "n = 1\n",
    "while n <= i :\n",
    "    if i%n == 0:\n",
    "        print(n, end = ' ')\n",
    "    n+=1"
   ]
  },
  {
   "cell_type": "code",
   "execution_count": 10,
   "id": "c29bef30",
   "metadata": {},
   "outputs": [
    {
     "name": "stdout",
     "output_type": "stream",
     "text": [
      "10\n"
     ]
    }
   ],
   "source": [
    "# find sumof digits \n",
    "n = int (input(\"enter the number: \")) \n",
    "temp =0\n",
    "while n !=0:\n",
    "    remender = n%10\n",
    "    temp+=remender \n",
    "    n//=10  \n",
    "print(temp)"
   ]
  },
  {
   "cell_type": "code",
   "execution_count": 16,
   "id": "2fa3445f",
   "metadata": {},
   "outputs": [
    {
     "name": "stdout",
     "output_type": "stream",
     "text": [
      "321\n"
     ]
    }
   ],
   "source": [
    "# wap to reverse the number \n",
    "n = int(input('enter the number '))\n",
    "i=0\n",
    "while n>0:\n",
    "    r = n%10\n",
    "    i *=10\n",
    "    i+=r\n",
    "    n//=10\n",
    "print(i)"
   ]
  },
  {
   "cell_type": "code",
   "execution_count": 18,
   "id": "60ea368b",
   "metadata": {},
   "outputs": [
    {
     "name": "stdout",
     "output_type": "stream",
     "text": [
      "12321\n",
      "the number is palandrome \n"
     ]
    }
   ],
   "source": [
    "# find the palandrome \n",
    "n = int(input ('enter the number: '))\n",
    "n1 = n\n",
    "i = 0 \n",
    "while n >0:\n",
    "    r = n%10\n",
    "    i *=10\n",
    "    i+=r\n",
    "    n//=10\n",
    "print(i)\n",
    "if i == n1 :\n",
    "    print('the number is palandrome ')\n",
    "else:\n",
    "    print('not palandrome ')"
   ]
  },
  {
   "cell_type": "code",
   "execution_count": 19,
   "id": "fbc7b0db",
   "metadata": {},
   "outputs": [
    {
     "name": "stdout",
     "output_type": "stream",
     "text": [
      "6\n"
     ]
    }
   ],
   "source": [
    "# wap which take input and check if the given number is narcissistic nuber or not \n",
    "n = int (input(\"enter the number: \")) \n",
    "temp =0\n",
    "while n !=0:\n",
    "    remender = n%10\n",
    "    temp+=remender \n",
    "    n//=10  \n",
    "print(temp)"
   ]
  },
  {
   "cell_type": "code",
   "execution_count": null,
   "id": "51d69f5c",
   "metadata": {},
   "outputs": [
    {
     "name": "stdout",
     "output_type": "stream",
     "text": [
      "3\n"
     ]
    }
   ],
   "source": [
    "# no. of digit \n",
    "n = int(input())\n",
    "temp = 0 \n",
    "while n != 0:\n",
    "    temp += 1\n",
    "    n //=10\n",
    "print(temp) \n"
   ]
  },
  {
   "cell_type": "code",
   "execution_count": null,
   "id": "c45281ba",
   "metadata": {},
   "outputs": [],
   "source": []
  }
 ],
 "metadata": {
  "kernelspec": {
   "display_name": "Python 3",
   "language": "python",
   "name": "python3"
  },
  "language_info": {
   "codemirror_mode": {
    "name": "ipython",
    "version": 3
   },
   "file_extension": ".py",
   "mimetype": "text/x-python",
   "name": "python",
   "nbconvert_exporter": "python",
   "pygments_lexer": "ipython3",
   "version": "3.13.2"
  }
 },
 "nbformat": 4,
 "nbformat_minor": 5
}
