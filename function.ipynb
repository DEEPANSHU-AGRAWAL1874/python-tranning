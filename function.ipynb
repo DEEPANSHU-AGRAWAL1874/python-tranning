{
 "cells": [
  {
   "cell_type": "code",
   "execution_count": null,
   "id": "7c6839a0",
   "metadata": {},
   "outputs": [
    {
     "name": "stdout",
     "output_type": "stream",
     "text": [
      "nCr value is: 70.0\n"
     ]
    }
   ],
   "source": [
    "# n c r \n",
    "\n",
    "def fact (n):\n",
    "    temp = 1\n",
    "    for i in range (1,n+1):\n",
    "        temp *= i\n",
    "    return temp\n",
    "n = int(input(\"enter the n\"))\n",
    "r = int(input(\"enter the r\"))\n",
    "n_fact = fact(n)\n",
    "r_fact = fact(r)\n",
    "n_r_fact = fact(n-r)\n",
    "cal = n_fact/(r_fact * n_r_fact)\n",
    "print(\"nCr value is:\",cal)\n"
   ]
  },
  {
   "cell_type": "code",
   "execution_count": 8,
   "id": "c7909f82",
   "metadata": {},
   "outputs": [
    {
     "name": "stdout",
     "output_type": "stream",
     "text": [
      "raju23ehd\n",
      "age is: 20\n",
      "23ehdraju\n",
      "age is: 20\n"
     ]
    }
   ],
   "source": [
    "def print_info(name,id,age):\n",
    "    print(name+id)\n",
    "    print('age is:' ,age)\n",
    "\n",
    "print_info('raju','23ehd', 20)    \n",
    "print_info(id='raju',name = '23ehd', age = 20)    \n",
    "    "
   ]
  },
  {
   "cell_type": "code",
   "execution_count": 20,
   "id": "55bb07b7",
   "metadata": {},
   "outputs": [
    {
     "name": "stdout",
     "output_type": "stream",
     "text": [
      "25\n"
     ]
    }
   ],
   "source": [
    "\n",
    "def prime(n):\n",
    "    if n ==2 or n==3 or n== 5 or n == 7:\n",
    "        return True\n",
    "    else:\n",
    "        return False\n",
    "lst  = [3,2,4,5,3,7,8,9,4,3,2,1]                        \n",
    "ans = 0\n",
    "for i in lst:\n",
    "    if (prime(i)) :\n",
    "        ans += i\n",
    "print(ans)   \n"
   ]
  },
  {
   "cell_type": "markdown",
   "id": "fac12acb",
   "metadata": {},
   "source": [
    "# higher order function\n"
   ]
  },
  {
   "cell_type": "code",
   "execution_count": null,
   "id": "2707fadc",
   "metadata": {},
   "outputs": [],
   "source": [
    "#lamda function\n",
    "   ''' lamda returns function \n",
    "    used to simplify the code \n",
    "     syntex - lamda (argument : expression)\n",
    "    '''\n"
   ]
  },
  {
   "cell_type": "code",
   "execution_count": null,
   "id": "986c5686",
   "metadata": {},
   "outputs": [
    {
     "name": "stdout",
     "output_type": "stream",
     "text": [
      "<class 'function'>\n",
      "27\n"
     ]
    }
   ],
   "source": [
    "x = lambda n:n*n*n\n",
    "print(type(x))\n",
    "print(x(3))\n"
   ]
  },
  {
   "cell_type": "code",
   "execution_count": null,
   "id": "f848ef0e",
   "metadata": {},
   "outputs": [
    {
     "name": "stdout",
     "output_type": "stream",
     "text": [
      "27\n"
     ]
    }
   ],
   "source": [
    "print((lambda n:n*n*n)(3))\n"
   ]
  },
  {
   "cell_type": "code",
   "execution_count": null,
   "id": "23f2108e",
   "metadata": {},
   "outputs": [
    {
     "name": "stdout",
     "output_type": "stream",
     "text": [
      "8.0\n"
     ]
    }
   ],
   "source": [
    "a = int(input())\n",
    "b = int(input())\n",
    "c = int(input())\n",
    "print((lambda a,b,c:(a+b+c)/3 )(a,b,c))\n"
   ]
  },
  {
   "cell_type": "code",
   "execution_count": null,
   "id": "016cdb7d",
   "metadata": {},
   "outputs": [
    {
     "data": {
      "text/plain": [
       "False"
      ]
     },
     "execution_count": 39,
     "metadata": {},
     "output_type": "execute_result"
    }
   ],
   "source": [
    "y = (lambda x:x[0]==0 )\n",
    "y ('hello')\n"
   ]
  },
  {
   "cell_type": "code",
   "execution_count": null,
   "id": "dc319b76",
   "metadata": {},
   "outputs": [
    {
     "name": "stdout",
     "output_type": "stream",
     "text": [
      "odd\n"
     ]
    }
   ],
   "source": [
    "a = lambda n : \"Even \" if n%2==0 else \"odd\"\n",
    "print(a(5))\n"
   ]
  },
  {
   "cell_type": "code",
   "execution_count": null,
   "id": "3d04ae25",
   "metadata": {},
   "outputs": [
    {
     "ename": "TypeError",
     "evalue": "'tuple' object is not callable",
     "output_type": "error",
     "traceback": [
      "\u001b[1;31m---------------------------------------------------------------------------\u001b[0m",
      "\u001b[1;31mTypeError\u001b[0m                                 Traceback (most recent call last)",
      "Cell \u001b[1;32mIn[45], line 2\u001b[0m\n\u001b[0;32m      1\u001b[0m prime \u001b[38;5;241m=\u001b[39m \u001b[38;5;28;01mlambda\u001b[39;00m n: n,\u001b[38;5;124m'\u001b[39m\u001b[38;5;124mis prime number\u001b[39m\u001b[38;5;124m'\u001b[39m \u001b[38;5;28;01mif\u001b[39;00m n \u001b[38;5;241m==\u001b[39m\u001b[38;5;241m2\u001b[39m \u001b[38;5;129;01mor\u001b[39;00m n \u001b[38;5;241m==\u001b[39m\u001b[38;5;241m5\u001b[39m \u001b[38;5;129;01mor\u001b[39;00m n\u001b[38;5;241m==\u001b[39m\u001b[38;5;241m3\u001b[39m \u001b[38;5;129;01mor\u001b[39;00m n\u001b[38;5;241m==\u001b[39m\u001b[38;5;241m7\u001b[39m  \u001b[38;5;28;01melse\u001b[39;00m \u001b[38;5;124m\"\u001b[39m\u001b[38;5;124mnot prime\u001b[39m\u001b[38;5;124m\"\u001b[39m\n\u001b[1;32m----> 2\u001b[0m \u001b[38;5;28mprint\u001b[39m(\u001b[43mprime\u001b[49m\u001b[43m(\u001b[49m\u001b[38;5;241;43m5\u001b[39;49m\u001b[43m)\u001b[49m)\n",
      "\u001b[1;31mTypeError\u001b[0m: 'tuple' object is not callable"
     ]
    }
   ],
   "source": [
    "prime = lambda n: n,'is prime number' if n ==2 or n ==5 or n==3 or n==7  else \"not prime\"\n",
    "print(prime(5))\n"
   ]
  },
  {
   "cell_type": "markdown",
   "id": "0df866d2",
   "metadata": {},
   "source": [
    "## higher order function\n",
    "\n",
    "    1) map ,filter ,reduce\n"
   ]
  },
  {
   "cell_type": "code",
   "execution_count": null,
   "id": "b6bb908a",
   "metadata": {},
   "outputs": [
    {
     "name": "stdout",
     "output_type": "stream",
     "text": [
      "[1, 4, 9, 16, 25, 36]\n"
     ]
    }
   ],
   "source": [
    "#map\n",
    "##syntex - map(function,sequence)\n",
    "\n",
    "# squar ethe item of list \n",
    "lst = [1,2,3,4,5,6]\n",
    "x = list(map(lambda x:x*x,lst))\n",
    "print(x)\n"
   ]
  },
  {
   "cell_type": "code",
   "execution_count": null,
   "id": "cdab3e82",
   "metadata": {},
   "outputs": [
    {
     "name": "stdout",
     "output_type": "stream",
     "text": [
      "[4.90625, 32.556776000000006, 68.773536, 376.49385, 1697.36625, 452.16]\n"
     ]
    }
   ],
   "source": [
    "lst = [1.25,3.22,4.68,10.95,23.25,12]\n",
    "x = list(map(lambda x:3.14*x**2,lst))\n",
    "print(x)\n"
   ]
  },
  {
   "cell_type": "code",
   "execution_count": null,
   "id": "9cde3287",
   "metadata": {},
   "outputs": [
    {
     "name": "stdout",
     "output_type": "stream",
     "text": [
      "['HELLO', 'HII', 'BYE', 'RAJU', 'VEDANT']\n"
     ]
    }
   ],
   "source": [
    "lst = ['hello','hii','bye', 'raju', 'vedant']\n",
    "x = list(map(lambda x: x.upper(),lst))\n",
    "print(x)\n"
   ]
  },
  {
   "cell_type": "markdown",
   "id": "3d5689d7",
   "metadata": {},
   "source": [
    "## filter\n"
   ]
  },
  {
   "cell_type": "code",
   "execution_count": null,
   "id": "fdd5fb16",
   "metadata": {},
   "outputs": [],
   "source": [
    "# filter\n",
    "#syntex - filter(function,sequence )\n"
   ]
  },
  {
   "cell_type": "code",
   "execution_count": 56,
   "id": "dd9c7279",
   "metadata": {},
   "outputs": [
    {
     "data": {
      "text/plain": [
       "[5, 6, 7, 8, 94, 65, 7, 8, 9]"
      ]
     },
     "execution_count": 56,
     "metadata": {},
     "output_type": "execute_result"
    }
   ],
   "source": [
    "lst = [1,3,5,6,7,8,4,3,2,4,94,65,7,8,9,0]\n",
    "var  = list(filter(lambda x: x>4,lst))\n",
    "var\n"
   ]
  },
  {
   "cell_type": "code",
   "execution_count": null,
   "id": "82e78701",
   "metadata": {},
   "outputs": [
    {
     "ename": "SyntaxError",
     "evalue": "Generator expression must be parenthesized (2562358743.py, line 2)",
     "output_type": "error",
     "traceback": [
      "\u001b[1;36m  Cell \u001b[1;32mIn[61], line 2\u001b[1;36m\u001b[0m\n\u001b[1;33m    a = list(filter(lambda x:x for x in lst  if x[0]==a,lst))\u001b[0m\n\u001b[1;37m                    ^\u001b[0m\n\u001b[1;31mSyntaxError\u001b[0m\u001b[1;31m:\u001b[0m Generator expression must be parenthesized\n"
     ]
    }
   ],
   "source": [
    "lst = ['hello','hii','bye', 'raju', 'vedant', 'abcd','apple']\n",
    "a = list(filter(lambda x:x for x in lst  if x[0]==a,lst))\n",
    "print(a)\n"
   ]
  },
  {
   "cell_type": "markdown",
   "id": "bf025587",
   "metadata": {},
   "source": [
    "##reduce()\n"
   ]
  },
  {
   "cell_type": "code",
   "execution_count": null,
   "id": "4ccab83b",
   "metadata": {},
   "outputs": [],
   "source": [
    "# reduce\n",
    "from functools import reduce\n"
   ]
  },
  {
   "cell_type": "code",
   "execution_count": null,
   "id": "b8e494dc",
   "metadata": {},
   "outputs": [
    {
     "name": "stdout",
     "output_type": "stream",
     "text": [
      "55\n"
     ]
    }
   ],
   "source": [
    "l = [1,2,3,4,5,6,7,8,9,10]\n",
    "a = reduce(lambda x,y:x+y,l)\n",
    "print(a)\n"
   ]
  },
  {
   "cell_type": "code",
   "execution_count": null,
   "id": "5f586db0",
   "metadata": {},
   "outputs": [
    {
     "name": "stdout",
     "output_type": "stream",
     "text": [
      "120\n"
     ]
    }
   ],
   "source": [
    "a= int(input('enter the number'))\n",
    "n = reduce(lambda x,y: x*y,range(1,a+1) )\n",
    "print(n)\n"
   ]
  },
  {
   "cell_type": "code",
   "execution_count": null,
   "id": "0e6f9e1b",
   "metadata": {},
   "outputs": [
    {
     "name": "stdout",
     "output_type": "stream",
     "text": [
      "1\n"
     ]
    }
   ],
   "source": [
    "l = [1,2,3,4,4,5,5,6,8,6,7,3]\n",
    "y = reduce(lambda x,y:x if x<y else y, l)\n",
    "print(y)\n"
   ]
  },
  {
   "cell_type": "markdown",
   "id": "0fc78583",
   "metadata": {},
   "source": [
    "## exception handling\n"
   ]
  },
  {
   "cell_type": "code",
   "execution_count": null,
   "id": "35138949",
   "metadata": {},
   "outputs": [
    {
     "name": "stdout",
     "output_type": "stream",
     "text": [
      "index is out of range please enter the valid index\n"
     ]
    }
   ],
   "source": [
    "try:\n",
    "    lst = [1,2,3,44,5,5,5,3,4,1,4,3,3]\n",
    "    print(lst[90])\n",
    "    print(b)\n",
    "    print(5/0)\n",
    "except IndexError:\n",
    "    print('index is out of range please enter the valid index')\n",
    "except NameError:\n",
    "    print('variable is not define')\n",
    "except ZeroDivisionError:\n",
    "    print('cancot divide by zero')\n"
   ]
  },
  {
   "cell_type": "markdown",
   "id": "2ab81d41",
   "metadata": {},
   "source": [
    "generic exception\n"
   ]
  },
  {
   "cell_type": "code",
   "execution_count": null,
   "id": "0b905f3c",
   "metadata": {},
   "outputs": [
    {
     "name": "stdout",
     "output_type": "stream",
     "text": [
      "list index out of range\n"
     ]
    }
   ],
   "source": [
    "try:\n",
    "    lst = [1,2,3,44,5,5,5,3,4,1,4,3,3]\n",
    "    print(lst[90])\n",
    "except Exception as e :\n",
    "    print(e)\n"
   ]
  },
  {
   "cell_type": "code",
   "execution_count": null,
   "id": "c7605ef0",
   "metadata": {},
   "outputs": [],
   "source": []
  }
 ],
 "metadata": {
  "kernelspec": {
   "display_name": "Python 3",
   "language": "python",
   "name": "python3"
  },
  "language_info": {
   "codemirror_mode": {
    "name": "ipython",
    "version": 3
   },
   "file_extension": ".py",
   "mimetype": "text/x-python",
   "name": "python",
   "nbconvert_exporter": "python",
   "pygments_lexer": "ipython3",
   "version": "3.13.2"
  }
 },
 "nbformat": 4,
 "nbformat_minor": 5
}
